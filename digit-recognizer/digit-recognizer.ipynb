{
 "cells": [
  {
   "cell_type": "code",
   "execution_count": 1,
   "metadata": {
    "collapsed": false
   },
   "outputs": [],
   "source": [
    "import numpy\n",
    "import pandas\n",
    "import sklearn.cross_validation\n",
    "import sklearn.decomposition\n",
    "import sklearn.grid_search\n",
    "import sklearn.ensemble\n",
    "import sklearn.linear_model\n",
    "import sklearn.metrics\n",
    "import sklearn.naive_bayes\n",
    "import sklearn.svm\n",
    "\n",
    "from matplotlib import pyplot\n",
    "%matplotlib inline"
   ]
  },
  {
   "cell_type": "code",
   "execution_count": 3,
   "metadata": {
    "collapsed": false
   },
   "outputs": [
    {
     "name": "stdout",
     "output_type": "stream",
     "text": [
      "X: (42000, 784)\n",
      "y: (42000,)\n"
     ]
    }
   ],
   "source": [
    "train_data = pandas.read_csv(\"train.csv.gz\").values\n",
    "X, y = train_data[:, 1:], train_data[:, 0]\n",
    "print(\"X:\", X.shape)\n",
    "print(\"y:\", y.shape)"
   ]
  },
  {
   "cell_type": "code",
   "execution_count": 11,
   "metadata": {
    "collapsed": false
   },
   "outputs": [
    {
     "name": "stdout",
     "output_type": "stream",
     "text": [
      "Test X: (28000, 784)\n"
     ]
    }
   ],
   "source": [
    "X_test = pandas.read_csv(\"test.csv.gz\").values\n",
    "print(\"Test X:\", X_test.shape)"
   ]
  },
  {
   "cell_type": "markdown",
   "metadata": {},
   "source": [
    "# PCA"
   ]
  },
  {
   "cell_type": "code",
   "execution_count": 4,
   "metadata": {
    "collapsed": false
   },
   "outputs": [],
   "source": [
    "pca = sklearn.decomposition.PCA().fit(X)"
   ]
  },
  {
   "cell_type": "code",
   "execution_count": 5,
   "metadata": {
    "collapsed": false
   },
   "outputs": [
    {
     "data": {
      "image/png": "[encoded data removed]",
      "text/plain": [
       "<matplotlib.figure.Figure at 0x10e48b8d0>"
      ]
     },
     "metadata": {},
     "output_type": "display_data"
    }
   ],
   "source": [
    "pyplot.plot(numpy.cumsum(pca.explained_variance_ratio_))\n",
    "pyplot.axhline(y=0.9)\n",
    "pyplot.xscale(\"log\")\n",
    "pyplot.show()"
   ]
  },
  {
   "cell_type": "code",
   "execution_count": 6,
   "metadata": {
    "collapsed": false
   },
   "outputs": [],
   "source": [
    "X_transformed = pca.transform(X)"
   ]
  },
  {
   "cell_type": "markdown",
   "metadata": {},
   "source": [
    "# Random Forest"
   ]
  },
  {
   "cell_type": "code",
   "execution_count": 10,
   "metadata": {
    "collapsed": false
   },
   "outputs": [
    {
     "name": "stdout",
     "output_type": "stream",
     "text": [
      "Fitting 3 folds for each of 2 candidates, totalling 6 fits\n",
      "[CV] n_estimators=500, max_depth=50 ..................................\n",
      "[CV] ......... n_estimators=500, max_depth=50, score=0.963153 - 1.5min\n",
      "[CV] n_estimators=500, max_depth=50 ..................................\n",
      "[CV] ......... n_estimators=500, max_depth=50, score=0.963495 - 1.4min\n",
      "[CV] n_estimators=500, max_depth=50 ..................................\n",
      "[CV] ......... n_estimators=500, max_depth=50, score=0.966209 - 1.4min\n",
      "[CV] n_estimators=500, max_depth=100 .................................\n",
      "[CV] ........ n_estimators=500, max_depth=100, score=0.963510 - 1.9min\n",
      "[CV] n_estimators=500, max_depth=100 .................................\n",
      "[CV] ........ n_estimators=500, max_depth=100, score=0.963566 - 1.5min\n",
      "[CV] n_estimators=500, max_depth=100 .................................\n",
      "[CV] ........ n_estimators=500, max_depth=100, score=0.967067 - 1.4min\n"
     ]
    },
    {
     "name": "stderr",
     "output_type": "stream",
     "text": [
      "[Parallel(n_jobs=1)]: Done   6 out of   6 | elapsed:  9.1min finished\n"
     ]
    },
    {
     "name": "stdout",
     "output_type": "stream",
     "text": [
      "Score: 0.964714285714\n",
      "Params: {'n_estimators': 500, 'max_depth': 100}\n"
     ]
    }
   ],
   "source": [
    "numpy.random.seed(0)\n",
    "\n",
    "rfc_model = sklearn.grid_search.GridSearchCV(sklearn.ensemble.RandomForestClassifier(\n",
    "    n_jobs=-1,\n",
    "    class_weight=\"balanced\",\n",
    "    max_features=\"sqrt\",\n",
    "), {\n",
    "    \"n_estimators\": [500],\n",
    "    \"max_depth\": [50, 100],\n",
    "}, verbose=3).fit(X, y)\n",
    "\n",
    "print(\"Score:\", rfc_model.best_score_)\n",
    "print(\"Params:\", rfc_model.best_params_)"
   ]
  },
  {
   "cell_type": "code",
   "execution_count": 23,
   "metadata": {
    "collapsed": false
   },
   "outputs": [
    {
     "name": "stdout",
     "output_type": "stream",
     "text": [
      "Y test: (28000, 2)\n"
     ]
    }
   ],
   "source": [
    "y_test = numpy.array(list(enumerate(rfc_model.best_estimator_.predict(X_test), start=1)))\n",
    "print(\"Y test:\", y_test.shape)\n",
    "numpy.savetxt(\"answer_rfc.csv\", y_test, fmt=\"%d,\\\"%d\\\"\", header=\"\\\"ImageId\\\",\\\"Label\\\"\", comments=\"\")"
   ]
  },
  {
   "cell_type": "markdown",
   "metadata": {},
   "source": [
    "# Bayes"
   ]
  },
  {
   "cell_type": "code",
   "execution_count": 7,
   "metadata": {
    "collapsed": false
   },
   "outputs": [
    {
     "name": "stdout",
     "output_type": "stream",
     "text": [
      "GaussianNB(): 0.562237774695\n",
      "BernoulliNB(alpha=1.0, binarize=0.0, class_prior=None, fit_prior=True): 0.832999717714\n",
      "MultinomialNB(alpha=1.0, class_prior=None, fit_prior=True): 0.825237642591\n"
     ]
    }
   ],
   "source": [
    "numpy.random.seed(0)\n",
    "\n",
    "for model in [\n",
    "    sklearn.naive_bayes.GaussianNB(),\n",
    "    sklearn.naive_bayes.BernoulliNB(),\n",
    "    sklearn.naive_bayes.MultinomialNB(),\n",
    "]:\n",
    "    print(\"%s: %s\" % (model, sklearn.cross_validation.cross_val_score(model, X, y).mean()))"
   ]
  },
  {
   "cell_type": "markdown",
   "metadata": {},
   "source": [
    "## PCA + Bayes"
   ]
  },
  {
   "cell_type": "code",
   "execution_count": 8,
   "metadata": {
    "collapsed": false
   },
   "outputs": [
    {
     "name": "stdout",
     "output_type": "stream",
     "text": [
      "GaussianNB(): 0.869833232797\n",
      "BernoulliNB(alpha=1.0, binarize=0.0, class_prior=None, fit_prior=True): 0.738832880561\n"
     ]
    }
   ],
   "source": [
    "numpy.random.seed(0)\n",
    "\n",
    "for model in [\n",
    "    sklearn.naive_bayes.GaussianNB(),\n",
    "    sklearn.naive_bayes.BernoulliNB(),\n",
    "]:\n",
    "    print(\"%s: %s\" % (model, sklearn.cross_validation.cross_val_score(model, X_transformed[:, :100], y).mean()))"
   ]
  }
 ],
 "metadata": {
  "kernelspec": {
   "display_name": "Python 3",
   "language": "python",
   "name": "python3"
  },
  "language_info": {
   "codemirror_mode": {
    "name": "ipython",
    "version": 3
   },
   "file_extension": ".py",
   "mimetype": "text/x-python",
   "name": "python",
   "nbconvert_exporter": "python",
   "pygments_lexer": "ipython3",
   "version": "3.5.1"
  }
 },
 "nbformat": 4,
 "nbformat_minor": 0
}
