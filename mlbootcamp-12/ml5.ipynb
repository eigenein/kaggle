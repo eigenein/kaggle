{
 "cells": [
  {
   "cell_type": "code",
   "execution_count": 193,
   "metadata": {},
   "outputs": [],
   "source": [
    "import datetime\n",
    "import hyperopt\n",
    "import itertools\n",
    "import math\n",
    "import numpy\n",
    "import operator\n",
    "import pandas\n",
    "import random\n",
    "import requests\n",
    "from IPython.display import Audio\n",
    "from sklearn import (\n",
    "    calibration,\n",
    "    ensemble,\n",
    "    linear_model,\n",
    "    metrics,\n",
    "    model_selection,\n",
    "    naive_bayes,\n",
    "    neighbors,\n",
    "    neural_network,\n",
    "    svm,\n",
    ")\n",
    "import time\n",
    "import tqdm\n",
    "import xgboost"
   ]
  },
  {
   "cell_type": "markdown",
   "metadata": {},
   "source": [
    "### Read and Filter"
   ]
  },
  {
   "cell_type": "code",
   "execution_count": 207,
   "metadata": {},
   "outputs": [],
   "source": [
    "dtype = {'smoke': float, 'alco': float, 'active': float}\n",
    "\n",
    "def fix_ap(value):\n",
    "    value = abs(value)\n",
    "    while value > 500.0:\n",
    "        value /= 10.0\n",
    "    return value\n",
    "\n",
    "def read_csv(filename):\n",
    "    frame = pandas.read_csv(filename, sep=';', header=0, na_values='None', dtype=dtype).drop(['id'], axis=1)\n",
    "    \n",
    "    frame = pandas.get_dummies(frame, columns=[\n",
    "        # 'smoke',\n",
    "        # 'active',\n",
    "        # 'alco',\n",
    "        # 'gender',\n",
    "        # 'cholesterol',\n",
    "        # 'gluc',\n",
    "    ])\n",
    "    frame = frame.assign(\n",
    "        bmi=(frame['weight'] / frame['height'] ** 2),\n",
    "        # aged_smoke_0=(frame['smoke_0.0'] * frame['age']),\n",
    "        # aged_smoke_1=(frame['smoke_1.0'] * frame['age']),\n",
    "        # aged_active_0=(frame['active_0.0'] * frame['age']),\n",
    "        # aged_active_1=(frame['active_1.0'] * frame['age']),\n",
    "        # aged_alco_0=(frame['alco_0.0'] * frame['age']),\n",
    "        # aged_alco_1=(frame['alco_1.0'] * frame['age']),\n",
    "        # smoke_1_active_0=(frame['smoke_1.0'] * frame['active_0.0']),\n",
    "    )\n",
    "    frame = frame.drop([\n",
    "        # 'smoke',\n",
    "        # 'alco',\n",
    "        # 'active',\n",
    "    ], axis=1)\n",
    "    \n",
    "    frame['ap_hi'] = frame['ap_hi'].apply(fix_ap)\n",
    "    \n",
    "    return frame"
   ]
  },
  {
   "cell_type": "code",
   "execution_count": 208,
   "metadata": {},
   "outputs": [
    {
     "name": "stdout",
     "output_type": "stream",
     "text": [
      "X: (70000, 12)\n",
      "y: (70000,)\n"
     ]
    }
   ],
   "source": [
    "train = read_csv('train.csv')\n",
    "\n",
    "X = train.drop('cardio', axis=1).values\n",
    "y = train['cardio'].values\n",
    "print(f'X: {X.shape}')\n",
    "print(f'y: {y.shape}')"
   ]
  },
  {
   "cell_type": "code",
   "execution_count": 290,
   "metadata": {},
   "outputs": [
    {
     "data": {
      "text/html": [
       "<div>\n",
       "<style>\n",
       "    .dataframe thead tr:only-child th {\n",
       "        text-align: right;\n",
       "    }\n",
       "\n",
       "    .dataframe thead th {\n",
       "        text-align: left;\n",
       "    }\n",
       "\n",
       "    .dataframe tbody tr th {\n",
       "        vertical-align: top;\n",
       "    }\n",
       "</style>\n",
       "<table border=\"1\" class=\"dataframe\">\n",
       "  <thead>\n",
       "    <tr style=\"text-align: right;\">\n",
       "      <th></th>\n",
       "      <th>age</th>\n",
       "      <th>gender</th>\n",
       "      <th>height</th>\n",
       "      <th>weight</th>\n",
       "      <th>ap_hi</th>\n",
       "      <th>ap_lo</th>\n",
       "      <th>cholesterol</th>\n",
       "      <th>gluc</th>\n",
       "      <th>smoke</th>\n",
       "      <th>alco</th>\n",
       "      <th>active</th>\n",
       "      <th>cardio</th>\n",
       "      <th>bmi</th>\n",
       "    </tr>\n",
       "  </thead>\n",
       "  <tbody>\n",
       "    <tr>\n",
       "      <th>0</th>\n",
       "      <td>18393</td>\n",
       "      <td>2</td>\n",
       "      <td>168</td>\n",
       "      <td>62.0</td>\n",
       "      <td>110.0</td>\n",
       "      <td>80</td>\n",
       "      <td>1</td>\n",
       "      <td>1</td>\n",
       "      <td>0.0</td>\n",
       "      <td>0.0</td>\n",
       "      <td>1.0</td>\n",
       "      <td>0</td>\n",
       "      <td>0.002197</td>\n",
       "    </tr>\n",
       "    <tr>\n",
       "      <th>1</th>\n",
       "      <td>20228</td>\n",
       "      <td>1</td>\n",
       "      <td>156</td>\n",
       "      <td>85.0</td>\n",
       "      <td>140.0</td>\n",
       "      <td>90</td>\n",
       "      <td>3</td>\n",
       "      <td>1</td>\n",
       "      <td>0.0</td>\n",
       "      <td>0.0</td>\n",
       "      <td>1.0</td>\n",
       "      <td>1</td>\n",
       "      <td>0.003493</td>\n",
       "    </tr>\n",
       "    <tr>\n",
       "      <th>2</th>\n",
       "      <td>18857</td>\n",
       "      <td>1</td>\n",
       "      <td>165</td>\n",
       "      <td>64.0</td>\n",
       "      <td>130.0</td>\n",
       "      <td>70</td>\n",
       "      <td>3</td>\n",
       "      <td>1</td>\n",
       "      <td>0.0</td>\n",
       "      <td>0.0</td>\n",
       "      <td>0.0</td>\n",
       "      <td>1</td>\n",
       "      <td>0.002351</td>\n",
       "    </tr>\n",
       "    <tr>\n",
       "      <th>3</th>\n",
       "      <td>17623</td>\n",
       "      <td>2</td>\n",
       "      <td>169</td>\n",
       "      <td>82.0</td>\n",
       "      <td>150.0</td>\n",
       "      <td>100</td>\n",
       "      <td>1</td>\n",
       "      <td>1</td>\n",
       "      <td>0.0</td>\n",
       "      <td>0.0</td>\n",
       "      <td>1.0</td>\n",
       "      <td>1</td>\n",
       "      <td>0.002871</td>\n",
       "    </tr>\n",
       "    <tr>\n",
       "      <th>4</th>\n",
       "      <td>17474</td>\n",
       "      <td>1</td>\n",
       "      <td>156</td>\n",
       "      <td>56.0</td>\n",
       "      <td>100.0</td>\n",
       "      <td>60</td>\n",
       "      <td>1</td>\n",
       "      <td>1</td>\n",
       "      <td>0.0</td>\n",
       "      <td>0.0</td>\n",
       "      <td>0.0</td>\n",
       "      <td>0</td>\n",
       "      <td>0.002301</td>\n",
       "    </tr>\n",
       "  </tbody>\n",
       "</table>\n",
       "</div>"
      ],
      "text/plain": [
       "     age  gender  height  weight  ap_hi  ap_lo  cholesterol  gluc  smoke  \\\n",
       "0  18393       2     168    62.0  110.0     80            1     1    0.0   \n",
       "1  20228       1     156    85.0  140.0     90            3     1    0.0   \n",
       "2  18857       1     165    64.0  130.0     70            3     1    0.0   \n",
       "3  17623       2     169    82.0  150.0    100            1     1    0.0   \n",
       "4  17474       1     156    56.0  100.0     60            1     1    0.0   \n",
       "\n",
       "   alco  active  cardio       bmi  \n",
       "0   0.0     1.0       0  0.002197  \n",
       "1   0.0     1.0       1  0.003493  \n",
       "2   0.0     0.0       1  0.002351  \n",
       "3   0.0     1.0       1  0.002871  \n",
       "4   0.0     0.0       0  0.002301  "
      ]
     },
     "execution_count": 290,
     "metadata": {},
     "output_type": "execute_result"
    }
   ],
   "source": [
    "test = read_csv('test.csv')\n",
    "train.head()"
   ]
  },
  {
   "cell_type": "markdown",
   "metadata": {},
   "source": [
    "### Helpers"
   ]
  },
  {
   "cell_type": "code",
   "execution_count": 286,
   "metadata": {
    "collapsed": true
   },
   "outputs": [],
   "source": [
    "def print_importances(estimator):\n",
    "    for name, importance in sorted(zip(test, estimator.feature_importances_), key=operator.itemgetter(1), reverse=True):\n",
    "        print(f'{name}: {importance:.7f}')\n",
    "\n",
    "def make_int_grid(params, param_name, delta):\n",
    "    n = params.get(param_name, 1)\n",
    "    return {param_name: list(range(max(1, n - delta), n + delta + 1))}\n",
    "\n",
    "def make_float_grid(params, param_name, delta, min_, max_):\n",
    "    x = params.get(param_name, 0.0)\n",
    "    return {param_name: [max(min_, x - delta), x, min(max_, x + delta)]}\n",
    "\n",
    "def search(estimator, X, y, params, **param_grid):\n",
    "    start_time = time.time()\n",
    "    grid_search = model_selection.GridSearchCV(\n",
    "        estimator.set_params(**params),\n",
    "        param_grid,\n",
    "        scoring='neg_log_loss',\n",
    "        refit=False,\n",
    "        cv=cv(),\n",
    "    ).fit(X, y)\n",
    "    print(f'[{(time.time() - start_time):.0f}s] {grid_search.best_score_:.7f} {grid_search.best_params_} | {param_grid}')\n",
    "    return grid_search\n",
    "\n",
    "def search_xgb(X, y, params):\n",
    "    estimator = xgboost.XGBClassifier(nthread=5, seed=0)\n",
    "    for _ in itertools.count(start=1):\n",
    "        print()\n",
    "        last_params = dict(params)\n",
    "        params.update(search(estimator, X, y, params, **make_float_grid(xgb_params, 'base_score', 0.01, 0.0, 1.0)).best_params_)\n",
    "        params.update(search(estimator, X, y, params, **make_float_grid(xgb_params, 'scale_pos_weight', 0.02, 0.0, 1.0)).best_params_)\n",
    "        params.update(search(estimator, X, y, params, **make_float_grid(xgb_params, 'reg_lambda', 0.01, 0.0, 1.0)).best_params_)\n",
    "        params.update(search(estimator, X, y, params, **make_float_grid(xgb_params, 'reg_alpha', 0.01, 0.0, 1.0)).best_params_)\n",
    "        params.update(search(estimator, X, y, params, **make_float_grid(xgb_params, 'gamma', 0.01, 0.0, 1.0)).best_params_)\n",
    "        params.update(search(estimator, X, y, params, **make_int_grid(xgb_params, 'max_depth', 1)).best_params_)\n",
    "        params.update(search(estimator, X, y, params, **make_int_grid(xgb_params, 'n_estimators', 3)).best_params_)\n",
    "        if params == last_params:\n",
    "            break\n",
    "    return estimator.set_params(**params).fit(X, y)"
   ]
  },
  {
   "cell_type": "markdown",
   "metadata": {},
   "source": [
    "### CV"
   ]
  },
  {
   "cell_type": "code",
   "execution_count": 213,
   "metadata": {},
   "outputs": [],
   "source": [
    "def cv():\n",
    "    return model_selection.StratifiedKFold(n_splits=10, shuffle=True, random_state=0)"
   ]
  },
  {
   "cell_type": "markdown",
   "metadata": {},
   "source": [
    "### Predict `smoke`, `alco` and `active`"
   ]
  },
  {
   "cell_type": "code",
   "execution_count": 296,
   "metadata": {},
   "outputs": [],
   "source": [
    "X_helper = train.drop(['smoke', 'alco', 'active', 'cardio'], axis=1).values\n",
    "\n",
    "y_smoke = train['smoke'].values\n",
    "y_alco = train['alco'].values\n",
    "y_active = train['active'].values"
   ]
  },
  {
   "cell_type": "code",
   "execution_count": 289,
   "metadata": {
    "collapsed": true
   },
   "outputs": [],
   "source": [
    "# smoke_params = {}\n",
    "# alco_params = {}\n",
    "# active_params = {}"
   ]
  },
  {
   "cell_type": "code",
   "execution_count": 297,
   "metadata": {},
   "outputs": [
    {
     "name": "stdout",
     "output_type": "stream",
     "text": [
      "\n",
      "[29s] -0.2392025 {'base_score': 0.52} | {'base_score': [0.5, 0.51, 0.52]}\n",
      "[29s] -0.2392025 {'scale_pos_weight': 1.0} | {'scale_pos_weight': [0.98, 1.0, 1.0]}\n",
      "[28s] -0.2392025 {'reg_lambda': 0.98} | {'reg_lambda': [0.98, 0.99, 1.0]}\n",
      "[28s] -0.2392025 {'reg_alpha': 0.009999999999999997} | {'reg_alpha': [0.009999999999999997, 0.019999999999999997, 0.03]}\n",
      "[28s] -0.2391664 {'gamma': 0.18} | {'gamma': [0.16999999999999998, 0.18, 0.19]}\n",
      "[35s] -0.2391664 {'max_depth': 4} | {'max_depth': [4, 5, 6]}\n",
      "[54s] -0.2391581 {'n_estimators': 81} | {'n_estimators': [77, 78, 79, 80, 81, 82, 83]}\n",
      "\n",
      "[23s] -0.2391581 {'base_score': 0.52} | {'base_score': [0.5, 0.51, 0.52]}\n",
      "[23s] -0.2391581 {'scale_pos_weight': 1.0} | {'scale_pos_weight': [0.98, 1.0, 1.0]}\n",
      "[23s] -0.2391581 {'reg_lambda': 0.98} | {'reg_lambda': [0.98, 0.99, 1.0]}\n",
      "[23s] -0.2391581 {'reg_alpha': 0.009999999999999997} | {'reg_alpha': [0.009999999999999997, 0.019999999999999997, 0.03]}\n",
      "[23s] -0.2391581 {'gamma': 0.18} | {'gamma': [0.16999999999999998, 0.18, 0.19]}\n",
      "[29s] -0.2391581 {'max_depth': 4} | {'max_depth': [4, 5, 6]}\n",
      "[54s] -0.2391581 {'n_estimators': 81} | {'n_estimators': [77, 78, 79, 80, 81, 82, 83]}\n",
      "age: 0.2627346\n",
      "smoke: 0.1992851\n",
      "weight: 0.1376229\n",
      "height: 0.1161752\n",
      "ap_hi: 0.1054513\n",
      "gender: 0.0545130\n",
      "cholesterol: 0.0518320\n",
      "ap_lo: 0.0411081\n",
      "gluc: 0.0312779\n"
     ]
    }
   ],
   "source": [
    "smoke_estimator = search_xgb(X_helper, y_smoke, smoke_params)"
   ]
  },
  {
   "cell_type": "code",
   "execution_count": 298,
   "metadata": {},
   "outputs": [
    {
     "name": "stdout",
     "output_type": "stream",
     "text": [
      "\n",
      "[21s] -0.1923655 {'base_score': 0.51} | {'base_score': [0.5, 0.51, 0.52]}\n",
      "[21s] -0.1923655 {'scale_pos_weight': 1.0} | {'scale_pos_weight': [0.98, 1.0, 1.0]}\n",
      "[21s] -0.1923655 {'reg_lambda': 1.0} | {'reg_lambda': [0.98, 0.99, 1.0]}\n",
      "[21s] -0.1924033 {'reg_alpha': 0.009999999999999997} | {'reg_alpha': [0.009999999999999997, 0.019999999999999997, 0.03]}\n",
      "[21s] -0.1923829 {'gamma': 0.16999999999999998} | {'gamma': [0.16999999999999998, 0.18, 0.19]}\n",
      "[35s] -0.1925351 {'max_depth': 4} | {'max_depth': [4, 5, 6]}\n",
      "[55s] -0.1924453 {'n_estimators': 77} | {'n_estimators': [77, 78, 79, 80, 81, 82, 83]}\n",
      "\n",
      "[23s] -0.1923628 {'base_score': 0.52} | {'base_score': [0.5, 0.51, 0.52]}\n",
      "[23s] -0.1923628 {'scale_pos_weight': 1.0} | {'scale_pos_weight': [0.98, 1.0, 1.0]}\n",
      "[24s] -0.1923628 {'reg_lambda': 1.0} | {'reg_lambda': [0.98, 0.99, 1.0]}\n",
      "[23s] -0.1923628 {'reg_alpha': 0.009999999999999997} | {'reg_alpha': [0.009999999999999997, 0.019999999999999997, 0.03]}\n",
      "[23s] -0.1923628 {'gamma': 0.16999999999999998} | {'gamma': [0.16999999999999998, 0.18, 0.19]}\n",
      "[29s] -0.1923628 {'max_depth': 4} | {'max_depth': [4, 5, 6]}\n",
      "[55s] -0.1923628 {'n_estimators': 77} | {'n_estimators': [77, 78, 79, 80, 81, 82, 83]}\n",
      "\n",
      "[22s] -0.1923628 {'base_score': 0.52} | {'base_score': [0.5, 0.51, 0.52]}\n",
      "[23s] -0.1923628 {'scale_pos_weight': 1.0} | {'scale_pos_weight': [0.98, 1.0, 1.0]}\n",
      "[23s] -0.1923628 {'reg_lambda': 1.0} | {'reg_lambda': [0.98, 0.99, 1.0]}\n",
      "[22s] -0.1923628 {'reg_alpha': 0.009999999999999997} | {'reg_alpha': [0.009999999999999997, 0.019999999999999997, 0.03]}\n",
      "[23s] -0.1923628 {'gamma': 0.16999999999999998} | {'gamma': [0.16999999999999998, 0.18, 0.19]}\n",
      "[28s] -0.1923628 {'max_depth': 4} | {'max_depth': [4, 5, 6]}\n",
      "[54s] -0.1923628 {'n_estimators': 77} | {'n_estimators': [77, 78, 79, 80, 81, 82, 83]}\n",
      "age: 0.2553789\n",
      "smoke: 0.1739944\n",
      "height: 0.1094481\n",
      "ap_hi: 0.0954163\n",
      "cholesterol: 0.0954163\n",
      "weight: 0.0879326\n",
      "gluc: 0.0664172\n",
      "ap_lo: 0.0636109\n",
      "gender: 0.0523854\n"
     ]
    }
   ],
   "source": [
    "alco_estimator = search_xgb(X_helper, y_alco, alco_params)"
   ]
  },
  {
   "cell_type": "code",
   "execution_count": 299,
   "metadata": {},
   "outputs": [
    {
     "name": "stdout",
     "output_type": "stream",
     "text": [
      "\n",
      "[21s] -0.4928248 {'base_score': 0.5} | {'base_score': [0.5, 0.51, 0.52]}\n",
      "[21s] -0.4928248 {'scale_pos_weight': 1.0} | {'scale_pos_weight': [0.98, 1.0, 1.0]}\n",
      "[20s] -0.4928034 {'reg_lambda': 0.99} | {'reg_lambda': [0.98, 0.99, 1.0]}\n",
      "[21s] -0.4928468 {'reg_alpha': 0.03} | {'reg_alpha': [0.009999999999999997, 0.019999999999999997, 0.03]}\n",
      "[21s] -0.4928251 {'gamma': 0.19} | {'gamma': [0.16999999999999998, 0.18, 0.19]}\n",
      "[33s] -0.4926050 {'max_depth': 4} | {'max_depth': [4, 5, 6]}\n",
      "[51s] -0.4926262 {'n_estimators': 83} | {'n_estimators': [77, 78, 79, 80, 81, 82, 83]}\n",
      "\n",
      "[23s] -0.4926055 {'base_score': 0.51} | {'base_score': [0.5, 0.51, 0.52]}\n",
      "[23s] -0.4925997 {'scale_pos_weight': 0.98} | {'scale_pos_weight': [0.98, 1.0, 1.0]}\n",
      "[23s] -0.4925997 {'reg_lambda': 0.99} | {'reg_lambda': [0.98, 0.99, 1.0]}\n",
      "[23s] -0.4925997 {'reg_alpha': 0.03} | {'reg_alpha': [0.009999999999999997, 0.019999999999999997, 0.03]}\n",
      "[23s] -0.4925953 {'gamma': 0.18} | {'gamma': [0.16999999999999998, 0.18, 0.19]}\n",
      "[28s] -0.4925953 {'max_depth': 4} | {'max_depth': [4, 5, 6]}\n",
      "[51s] -0.4925953 {'n_estimators': 83} | {'n_estimators': [77, 78, 79, 80, 81, 82, 83]}\n",
      "\n",
      "[23s] -0.4925953 {'base_score': 0.51} | {'base_score': [0.5, 0.51, 0.52]}\n",
      "[23s] -0.4925953 {'scale_pos_weight': 0.98} | {'scale_pos_weight': [0.98, 1.0, 1.0]}\n",
      "[23s] -0.4925953 {'reg_lambda': 0.99} | {'reg_lambda': [0.98, 0.99, 1.0]}\n",
      "[23s] -0.4925953 {'reg_alpha': 0.03} | {'reg_alpha': [0.009999999999999997, 0.019999999999999997, 0.03]}\n",
      "[23s] -0.4925953 {'gamma': 0.18} | {'gamma': [0.16999999999999998, 0.18, 0.19]}\n",
      "[28s] -0.4925953 {'max_depth': 4} | {'max_depth': [4, 5, 6]}\n",
      "[51s] -0.4925953 {'n_estimators': 83} | {'n_estimators': [77, 78, 79, 80, 81, 82, 83]}\n",
      "age: 0.2500000\n",
      "smoke: 0.2375479\n",
      "height: 0.1446360\n",
      "weight: 0.1034483\n",
      "ap_hi: 0.0938697\n",
      "ap_lo: 0.0727969\n",
      "cholesterol: 0.0383142\n",
      "gluc: 0.0344828\n",
      "gender: 0.0249042\n"
     ]
    }
   ],
   "source": [
    "active_estimator = search_xgb(X_helper, y_active, active_params)"
   ]
  },
  {
   "cell_type": "markdown",
   "metadata": {},
   "source": [
    "### Predict `cardio`"
   ]
  },
  {
   "cell_type": "code",
   "execution_count": 292,
   "metadata": {
    "collapsed": true
   },
   "outputs": [],
   "source": [
    "'''\n",
    "xgb_params = {\n",
    "    'base_score': 0.51,\n",
    "    'gamma': 0.18,\n",
    "    'max_depth': 5,\n",
    "    'n_estimators': 80,\n",
    "    'reg_alpha': 0.019999999999999997,\n",
    "    'reg_lambda': 0.99,\n",
    "    'scale_pos_weight': 1.0,\n",
    "}\n",
    "'''"
   ]
  },
  {
   "cell_type": "code",
   "execution_count": 300,
   "metadata": {
    "scrolled": true
   },
   "outputs": [
    {
     "name": "stdout",
     "output_type": "stream",
     "text": [
      "\n",
      "[32s] -0.5384644 {'base_score': 0.51} | {'base_score': [0.5, 0.51, 0.52]}\n",
      "[32s] -0.5384644 {'scale_pos_weight': 1.0} | {'scale_pos_weight': [0.98, 1.0, 1.0]}\n",
      "[32s] -0.5384644 {'reg_lambda': 0.99} | {'reg_lambda': [0.98, 0.99, 1.0]}\n",
      "[32s] -0.5384644 {'reg_alpha': 0.019999999999999997} | {'reg_alpha': [0.009999999999999997, 0.019999999999999997, 0.03]}\n",
      "[32s] -0.5384644 {'gamma': 0.18} | {'gamma': [0.16999999999999998, 0.18, 0.19]}\n",
      "[32s] -0.5384644 {'max_depth': 5} | {'max_depth': [4, 5, 6]}\n",
      "[74s] -0.5384644 {'n_estimators': 80} | {'n_estimators': [77, 78, 79, 80, 81, 82, 83]}\n",
      "age: 0.2551440\n",
      "bmi: 0.1627801\n",
      "ap_hi: 0.1252858\n",
      "height: 0.1001372\n",
      "weight: 0.0960220\n",
      "ap_lo: 0.0759031\n",
      "cholesterol: 0.0653864\n",
      "gluc: 0.0480110\n",
      "active: 0.0301783\n",
      "smoke: 0.0169182\n",
      "alco: 0.0132602\n",
      "gender: 0.0109739\n"
     ]
    }
   ],
   "source": [
    "cardio_estimator = search_xgb(X, y, xgb_params)\n",
    "print_importances(cardio_estimator)"
   ]
  },
  {
   "cell_type": "code",
   "execution_count": 301,
   "metadata": {
    "scrolled": true
   },
   "outputs": [],
   "source": [
    "# TODO: fill NAs\n",
    "numpy.savetxt(f'xgboost.txt', cardio_estimator.predict_proba(test.values)[:, 1], fmt='%f')"
   ]
  }
 ],
 "metadata": {
  "kernelspec": {
   "display_name": "Python 3",
   "language": "python",
   "name": "python3"
  }
 },
 "nbformat": 4,
 "nbformat_minor": 2
}
