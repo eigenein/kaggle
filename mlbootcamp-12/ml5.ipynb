{
 "cells": [
  {
   "cell_type": "code",
   "execution_count": 404,
   "metadata": {},
   "outputs": [],
   "source": [
    "import collections\n",
    "import datetime\n",
    "import hyperopt\n",
    "import itertools\n",
    "import math\n",
    "import numpy\n",
    "import operator\n",
    "import pandas\n",
    "import random\n",
    "import scipy.optimize\n",
    "from sklearn import (\n",
    "    calibration,\n",
    "    ensemble,\n",
    "    linear_model,\n",
    "    metrics,\n",
    "    model_selection,\n",
    "    naive_bayes,\n",
    "    neighbors,\n",
    "    neural_network,\n",
    "    svm,\n",
    ")\n",
    "import time\n",
    "import xgboost"
   ]
  },
  {
   "cell_type": "markdown",
   "metadata": {},
   "source": [
    "### Read and Filter"
   ]
  },
  {
   "cell_type": "code",
   "execution_count": 387,
   "metadata": {},
   "outputs": [],
   "source": [
    "dtype = {'smoke': float, 'alco': float, 'active': float}\n",
    "\n",
    "def fix_ap(value):\n",
    "    value = abs(value)\n",
    "    while value > 500.0:\n",
    "        value /= 10.0\n",
    "    return value\n",
    "\n",
    "def read_csv(filename):\n",
    "    frame = pandas.read_csv(filename, sep=';', header=0, na_values='None', dtype=dtype).drop(['id'], axis=1)\n",
    "    \n",
    "    frame = pandas.get_dummies(frame, columns=[\n",
    "        # 'smoke',\n",
    "        # 'active',\n",
    "        # 'alco',\n",
    "        # 'gender',\n",
    "        # 'cholesterol',\n",
    "        # 'gluc',\n",
    "    ])\n",
    "    frame = frame.assign(\n",
    "        bmi=(frame['weight'] / frame['height'] ** 2),\n",
    "        # aged_smoke_0=(frame['smoke_0.0'] * frame['age']),\n",
    "        # aged_smoke_1=(frame['smoke_1.0'] * frame['age']),\n",
    "        # aged_active_0=(frame['active_0.0'] * frame['age']),\n",
    "        # aged_active_1=(frame['active_1.0'] * frame['age']),\n",
    "        # aged_alco_0=(frame['alco_0.0'] * frame['age']),\n",
    "        # aged_alco_1=(frame['alco_1.0'] * frame['age']),\n",
    "        # smoke_1_active_0=(frame['smoke_1.0'] * frame['active_0.0']),\n",
    "    )\n",
    "    \n",
    "    frame['ap_hi'] = frame['ap_hi'].apply(fix_ap)\n",
    "    frame['ap_lo'] = frame['ap_lo'].apply(fix_ap)\n",
    "    \n",
    "    return frame"
   ]
  },
  {
   "cell_type": "code",
   "execution_count": 388,
   "metadata": {},
   "outputs": [
    {
     "name": "stdout",
     "output_type": "stream",
     "text": [
      "X: (70000, 12)\n",
      "y: (70000,)\n"
     ]
    }
   ],
   "source": [
    "train = read_csv('train.csv')\n",
    "\n",
    "X = train.drop('cardio', axis=1).values\n",
    "y = train['cardio'].values\n",
    "print(f'X: {X.shape}')\n",
    "print(f'y: {y.shape}')"
   ]
  },
  {
   "cell_type": "markdown",
   "metadata": {},
   "source": [
    "### Hyper-parameter Optimisation"
   ]
  },
  {
   "cell_type": "code",
   "execution_count": 432,
   "metadata": {},
   "outputs": [],
   "source": [
    "def cv():\n",
    "    return model_selection.StratifiedKFold(n_splits=3, shuffle=True, random_state=0)\n",
    "\n",
    "def make_int_grid(params, param_name, delta):\n",
    "    n = params.get(param_name, 1)\n",
    "    return {param_name: list(range(max(1, n - delta), n + delta + 1))}\n",
    "\n",
    "def make_float_grid(params, param_name, delta, min_, max_, default=0.0):\n",
    "    x = params.get(param_name, default)\n",
    "    return {param_name: sorted({max(min_, x - delta), x, min(max_, x + delta)})}\n",
    "\n",
    "def search(estimator, X, y, params, **param_grid):\n",
    "    start_time = time.time()\n",
    "    grid_search = model_selection.GridSearchCV(\n",
    "        estimator.set_params(**params),\n",
    "        param_grid,\n",
    "        scoring='neg_log_loss',\n",
    "        refit=False,\n",
    "        cv=cv(),\n",
    "    ).fit(X, y)\n",
    "    params.update(grid_search.best_params_)\n",
    "    print(f'[{(time.time() - start_time):.0f}s] {grid_search.best_score_:.10f} {grid_search.best_params_} | {param_grid}')\n",
    "\n",
    "def search_xgb(X, y, params):\n",
    "    estimator = xgboost.XGBClassifier(nthread=4, seed=0)\n",
    "    for _ in range(100):\n",
    "        print()\n",
    "        searches = [\n",
    "            lambda: search(estimator, X, y, params, **make_float_grid(params, 'colsample_bytree', 0.01, 0.5, 1.0, 1.0)),\n",
    "            lambda: search(estimator, X, y, params, **make_float_grid(params, 'subsample', 0.01, 0.5, 1.0, 1.0)),\n",
    "            lambda: search(estimator, X, y, params, **make_float_grid(params, 'base_score', 0.01, 0.0, 1.0)),\n",
    "            lambda: search(estimator, X, y, params, **make_float_grid(params, 'scale_pos_weight', 0.01, 0.0, 1.0)),\n",
    "            lambda: search(estimator, X, y, params, **make_float_grid(params, 'reg_lambda', 0.01, 0.0, 1.0)),\n",
    "            lambda: search(estimator, X, y, params, **make_float_grid(params, 'reg_alpha', 0.01, 0.0, 1.0)),\n",
    "            lambda: search(estimator, X, y, params, **make_float_grid(params, 'gamma', 0.01, 0.0, 1.0)),\n",
    "            lambda: search(estimator, X, y, params, **make_int_grid(params, 'max_depth', 1)),\n",
    "            lambda: search(estimator, X, y, params, **make_int_grid(params, 'n_estimators', 3)),\n",
    "        ]\n",
    "        random.shuffle(searches)\n",
    "        last_params = dict(params)\n",
    "        for _search in searches:\n",
    "            _search()\n",
    "        if params == last_params:\n",
    "            break\n",
    "    \n",
    "    print('---------------------------------------------------')\n",
    "    print(params)\n",
    "    return estimator.set_params(**params).fit(X, y)"
   ]
  },
  {
   "cell_type": "markdown",
   "metadata": {},
   "source": [
    "### Predict `smoke`, `alco` and `active`"
   ]
  },
  {
   "cell_type": "code",
   "execution_count": 390,
   "metadata": {},
   "outputs": [],
   "source": [
    "X_helper = train.drop(['smoke', 'alco', 'active', 'cardio'], axis=1).values\n",
    "\n",
    "y_smoke = train['smoke'].values\n",
    "y_alco = train['alco'].values\n",
    "y_active = train['active'].values"
   ]
  },
  {
   "cell_type": "code",
   "execution_count": 391,
   "metadata": {},
   "outputs": [],
   "source": [
    "# smoke_params = {'base_score': 0.53, 'scale_pos_weight': 1.0, 'reg_lambda': 0.98, 'reg_alpha': 0.01, 'gamma': 0.03999999999999997, 'max_depth': 3, 'n_estimators': 79, 'subsample': 0.5, 'colsample_bytree': 0.7799999999999998}\n",
    "# alco_params = {'base_score': 0.52, 'scale_pos_weight': 1.0, 'reg_lambda': 0.97, 'reg_alpha': 0.0, 'gamma': 0.19, 'max_depth': 3, 'n_estimators': 89, 'colsample_bytree': 1.0, 'subsample': 0.98}\n",
    "# active_params = {'base_score': 0.52, 'scale_pos_weight': 0.98, 'reg_lambda': 0.99, 'reg_alpha': 0.019999999999999997, 'gamma': 0.16999999999999998, 'max_depth': 5, 'n_estimators': 82, 'colsample_bytree': 0.8899999999999999, 'subsample': 0.99}"
   ]
  },
  {
   "cell_type": "code",
   "execution_count": 392,
   "metadata": {
    "scrolled": true
   },
   "outputs": [
    {
     "name": "stdout",
     "output_type": "stream",
     "text": [
      "\n",
      "[22s] -0.2388125068 {'colsample_bytree': 0.7799999999999998} | {'colsample_bytree': [0.7699999999999998, 0.7799999999999998, 0.7899999999999998]}\n",
      "[22s] -0.2388125068 {'base_score': 0.53} | {'base_score': [0.52, 0.53, 0.54]}\n",
      "[15s] -0.2388125068 {'scale_pos_weight': 1.0} | {'scale_pos_weight': [0.99, 1.0]}\n",
      "[22s] -0.2388125068 {'max_depth': 3} | {'max_depth': [2, 3, 4]}\n",
      "[22s] -0.2388125068 {'reg_lambda': 0.98} | {'reg_lambda': [0.97, 0.98, 0.99]}\n",
      "[22s] -0.2388125068 {'gamma': 0.02999999999999997} | {'gamma': [0.02999999999999997, 0.03999999999999997, 0.049999999999999975]}\n",
      "[22s] -0.2388125068 {'reg_alpha': 0.01} | {'reg_alpha': [0.0, 0.01, 0.02]}\n",
      "[15s] -0.2388125068 {'subsample': 0.5} | {'subsample': [0.5, 0.51]}\n",
      "[51s] -0.2388112521 {'n_estimators': 81} | {'n_estimators': [76, 77, 78, 79, 80, 81, 82]}\n",
      "\n",
      "[53s] -0.2388031676 {'n_estimators': 84} | {'n_estimators': [78, 79, 80, 81, 82, 83, 84]}\n",
      "[16s] -0.2388031676 {'subsample': 0.5} | {'subsample': [0.5, 0.51]}\n",
      "[23s] -0.2388031676 {'gamma': 0.01999999999999997} | {'gamma': [0.01999999999999997, 0.02999999999999997, 0.03999999999999997]}\n",
      "[23s] -0.2388031676 {'max_depth': 3} | {'max_depth': [2, 3, 4]}\n",
      "[24s] -0.2388031676 {'colsample_bytree': 0.7799999999999998} | {'colsample_bytree': [0.7699999999999998, 0.7799999999999998, 0.7899999999999998]}\n",
      "[23s] -0.2388031676 {'base_score': 0.53} | {'base_score': [0.52, 0.53, 0.54]}\n",
      "[16s] -0.2388031676 {'scale_pos_weight': 1.0} | {'scale_pos_weight': [0.99, 1.0]}\n",
      "[23s] -0.2388031676 {'reg_alpha': 0.01} | {'reg_alpha': [0.0, 0.01, 0.02]}\n",
      "[23s] -0.2388031676 {'reg_lambda': 0.98} | {'reg_lambda': [0.97, 0.98, 0.99]}\n",
      "\n",
      "[16s] -0.2388031676 {'subsample': 0.5} | {'subsample': [0.5, 0.51]}\n",
      "[23s] -0.2388031676 {'base_score': 0.53} | {'base_score': [0.52, 0.53, 0.54]}\n",
      "[23s] -0.2388031676 {'reg_alpha': 0.01} | {'reg_alpha': [0.0, 0.01, 0.02]}\n",
      "[23s] -0.2388031676 {'max_depth': 3} | {'max_depth': [2, 3, 4]}\n",
      "[54s] -0.2387798946 {'n_estimators': 87} | {'n_estimators': [81, 82, 83, 84, 85, 86, 87]}\n",
      "[24s] -0.2387769272 {'reg_lambda': 0.99} | {'reg_lambda': [0.97, 0.98, 0.99]}\n",
      "[24s] -0.2387769272 {'colsample_bytree': 0.7799999999999998} | {'colsample_bytree': [0.7699999999999998, 0.7799999999999998, 0.7899999999999998]}\n",
      "[24s] -0.2387769272 {'gamma': 0.01999999999999997} | {'gamma': [0.009999999999999969, 0.01999999999999997, 0.02999999999999997]}\n",
      "[16s] -0.2387769272 {'scale_pos_weight': 1.0} | {'scale_pos_weight': [0.99, 1.0]}\n",
      "\n",
      "[16s] -0.2387769272 {'subsample': 0.5} | {'subsample': [0.5, 0.51]}\n",
      "[16s] -0.2387769272 {'scale_pos_weight': 1.0} | {'scale_pos_weight': [0.99, 1.0]}\n",
      "[55s] -0.2387769272 {'n_estimators': 87} | {'n_estimators': [84, 85, 86, 87, 88, 89, 90]}\n",
      "[24s] -0.2387769272 {'base_score': 0.53} | {'base_score': [0.52, 0.53, 0.54]}\n",
      "[24s] -0.2387769272 {'reg_lambda': 0.99} | {'reg_lambda': [0.98, 0.99, 1.0]}\n",
      "[23s] -0.2387769272 {'colsample_bytree': 0.7799999999999998} | {'colsample_bytree': [0.7699999999999998, 0.7799999999999998, 0.7899999999999998]}\n",
      "[24s] -0.2387769272 {'reg_alpha': 0.01} | {'reg_alpha': [0.0, 0.01, 0.02]}\n",
      "[24s] -0.2387769272 {'max_depth': 3} | {'max_depth': [2, 3, 4]}\n",
      "[24s] -0.2387769272 {'gamma': 0.01999999999999997} | {'gamma': [0.009999999999999969, 0.01999999999999997, 0.02999999999999997]}\n",
      "---------------------------------------------------\n",
      "{'base_score': 0.53, 'scale_pos_weight': 1.0, 'reg_lambda': 0.99, 'reg_alpha': 0.01, 'gamma': 0.01999999999999997, 'max_depth': 3, 'n_estimators': 87, 'subsample': 0.5, 'colsample_bytree': 0.7799999999999998}\n"
     ]
    }
   ],
   "source": [
    "smoke_estimator = search_xgb(X_helper, y_smoke, smoke_params)"
   ]
  },
  {
   "cell_type": "code",
   "execution_count": 393,
   "metadata": {},
   "outputs": [
    {
     "name": "stdout",
     "output_type": "stream",
     "text": [
      "\n",
      "[22s] -0.1923616867 {'reg_lambda': 0.98} | {'reg_lambda': [0.96, 0.97, 0.98]}\n",
      "[22s] -0.1923010299 {'subsample': 0.97} | {'subsample': [0.97, 0.98, 0.99]}\n",
      "[22s] -0.1923010299 {'gamma': 0.18} | {'gamma': [0.18, 0.19, 0.2]}\n",
      "[22s] -0.1923010299 {'max_depth': 3} | {'max_depth': [2, 3, 4]}\n",
      "[14s] -0.1923010299 {'colsample_bytree': 1.0} | {'colsample_bytree': [0.99, 1.0]}\n",
      "[22s] -0.1923010299 {'base_score': 0.52} | {'base_score': [0.51, 0.52, 0.53]}\n",
      "[15s] -0.1923010299 {'reg_alpha': 0.0} | {'reg_alpha': [0.0, 0.01]}\n",
      "[52s] -0.1923010299 {'n_estimators': 89} | {'n_estimators': [86, 87, 88, 89, 90, 91, 92]}\n",
      "[15s] -0.1923010299 {'scale_pos_weight': 1.0} | {'scale_pos_weight': [0.99, 1.0]}\n",
      "\n",
      "[15s] -0.1923010299 {'colsample_bytree': 1.0} | {'colsample_bytree': [0.99, 1.0]}\n",
      "[16s] -0.1923010299 {'scale_pos_weight': 1.0} | {'scale_pos_weight': [0.99, 1.0]}\n",
      "[23s] -0.1923010299 {'max_depth': 3} | {'max_depth': [2, 3, 4]}\n",
      "[24s] -0.1923010299 {'gamma': 0.16999999999999998} | {'gamma': [0.16999999999999998, 0.18, 0.19]}\n",
      "[23s] -0.1923010299 {'base_score': 0.52} | {'base_score': [0.51, 0.52, 0.53]}\n",
      "[15s] -0.1923010299 {'reg_alpha': 0.0} | {'reg_alpha': [0.0, 0.01]}\n",
      "[23s] -0.1923010299 {'subsample': 0.97} | {'subsample': [0.96, 0.97, 0.98]}\n",
      "[57s] -0.1923010299 {'n_estimators': 89} | {'n_estimators': [86, 87, 88, 89, 90, 91, 92]}\n",
      "[26s] -0.1923010299 {'reg_lambda': 0.98} | {'reg_lambda': [0.97, 0.98, 0.99]}\n",
      "\n",
      "[24s] -0.1923010299 {'reg_lambda': 0.98} | {'reg_lambda': [0.97, 0.98, 0.99]}\n",
      "[24s] -0.1923010299 {'max_depth': 3} | {'max_depth': [2, 3, 4]}\n",
      "[17s] -0.1923010299 {'scale_pos_weight': 1.0} | {'scale_pos_weight': [0.99, 1.0]}\n",
      "[16s] -0.1923010299 {'reg_alpha': 0.0} | {'reg_alpha': [0.0, 0.01]}\n",
      "[58s] -0.1923010299 {'n_estimators': 89} | {'n_estimators': [86, 87, 88, 89, 90, 91, 92]}\n",
      "[25s] -0.1923010299 {'base_score': 0.52} | {'base_score': [0.51, 0.52, 0.53]}\n",
      "[25s] -0.1923010299 {'subsample': 0.97} | {'subsample': [0.96, 0.97, 0.98]}\n",
      "[16s] -0.1923010299 {'colsample_bytree': 1.0} | {'colsample_bytree': [0.99, 1.0]}\n",
      "[22s] -0.1923010299 {'gamma': 0.15999999999999998} | {'gamma': [0.15999999999999998, 0.16999999999999998, 0.18]}\n",
      "\n",
      "[21s] -0.1923010299 {'base_score': 0.52} | {'base_score': [0.51, 0.52, 0.53]}\n",
      "[21s] -0.1923010299 {'reg_lambda': 0.98} | {'reg_lambda': [0.97, 0.98, 0.99]}\n",
      "[23s] -0.1923010299 {'gamma': 0.15999999999999998} | {'gamma': [0.14999999999999997, 0.15999999999999998, 0.16999999999999998]}\n",
      "[16s] -0.1923010299 {'scale_pos_weight': 1.0} | {'scale_pos_weight': [0.99, 1.0]}\n",
      "[16s] -0.1923010299 {'reg_alpha': 0.0} | {'reg_alpha': [0.0, 0.01]}\n",
      "[24s] -0.1923010299 {'max_depth': 3} | {'max_depth': [2, 3, 4]}\n",
      "[15s] -0.1923010299 {'colsample_bytree': 1.0} | {'colsample_bytree': [0.99, 1.0]}\n",
      "[56s] -0.1923010299 {'n_estimators': 89} | {'n_estimators': [86, 87, 88, 89, 90, 91, 92]}\n",
      "[24s] -0.1923010299 {'subsample': 0.97} | {'subsample': [0.96, 0.97, 0.98]}\n",
      "---------------------------------------------------\n",
      "{'base_score': 0.52, 'scale_pos_weight': 1.0, 'reg_lambda': 0.98, 'reg_alpha': 0.0, 'gamma': 0.15999999999999998, 'max_depth': 3, 'n_estimators': 89, 'colsample_bytree': 1.0, 'subsample': 0.97}\n"
     ]
    }
   ],
   "source": [
    "alco_estimator = search_xgb(X_helper, y_alco, alco_params)"
   ]
  },
  {
   "cell_type": "code",
   "execution_count": 399,
   "metadata": {
    "scrolled": true
   },
   "outputs": [
    {
     "name": "stdout",
     "output_type": "stream",
     "text": [
      "\n",
      "[35s] -0.4925443825 {'scale_pos_weight': 0.98} | {'scale_pos_weight': [0.97, 0.98, 0.99]}\n",
      "[34s] -0.4925443825 {'reg_alpha': 0.019999999999999997} | {'reg_alpha': [0.009999999999999997, 0.019999999999999997, 0.03]}\n",
      "[35s] -0.4923760066 {'base_score': 0.53} | {'base_score': [0.53, 0.54, 0.55]}\n",
      "[34s] -0.4923760066 {'gamma': 0.18} | {'gamma': [0.16999999999999998, 0.18, 0.19]}\n",
      "[35s] -0.4923760066 {'reg_lambda': 0.99} | {'reg_lambda': [0.98, 0.99, 1.0]}\n",
      "[34s] -0.4923760066 {'colsample_bytree': 0.7799999999999998} | {'colsample_bytree': [0.7699999999999998, 0.7799999999999998, 0.7899999999999998]}\n",
      "[36s] -0.4923760066 {'max_depth': 6} | {'max_depth': [5, 6, 7]}\n",
      "[81s] -0.4923760066 {'n_estimators': 84} | {'n_estimators': [81, 82, 83, 84, 85, 86, 87]}\n",
      "[34s] -0.4923760066 {'subsample': 0.99} | {'subsample': [0.98, 0.99, 1.0]}\n",
      "\n",
      "[34s] -0.4923760066 {'max_depth': 6} | {'max_depth': [5, 6, 7]}\n",
      "[81s] -0.4923760066 {'n_estimators': 84} | {'n_estimators': [81, 82, 83, 84, 85, 86, 87]}\n",
      "[34s] -0.4923760066 {'subsample': 0.99} | {'subsample': [0.98, 0.99, 1.0]}\n",
      "[35s] -0.4923760066 {'reg_alpha': 0.019999999999999997} | {'reg_alpha': [0.009999999999999997, 0.019999999999999997, 0.03]}\n",
      "[35s] -0.4923760066 {'reg_lambda': 0.99} | {'reg_lambda': [0.98, 0.99, 1.0]}\n",
      "[35s] -0.4923760066 {'gamma': 0.18} | {'gamma': [0.16999999999999998, 0.18, 0.19]}\n",
      "[36s] -0.4923760066 {'base_score': 0.53} | {'base_score': [0.52, 0.53, 0.54]}\n",
      "[35s] -0.4923760066 {'colsample_bytree': 0.7799999999999998} | {'colsample_bytree': [0.7699999999999998, 0.7799999999999998, 0.7899999999999998]}\n",
      "[33s] -0.4923760066 {'scale_pos_weight': 0.98} | {'scale_pos_weight': [0.97, 0.98, 0.99]}\n",
      "---------------------------------------------------\n",
      "{'base_score': 0.53, 'scale_pos_weight': 0.98, 'reg_lambda': 0.99, 'reg_alpha': 0.019999999999999997, 'gamma': 0.18, 'max_depth': 6, 'n_estimators': 84, 'colsample_bytree': 0.7799999999999998, 'subsample': 0.99}\n"
     ]
    }
   ],
   "source": [
    "active_estimator = search_xgb(X_helper, y_active, active_params)"
   ]
  },
  {
   "cell_type": "markdown",
   "metadata": {},
   "source": [
    "### Predict `cardio`"
   ]
  },
  {
   "cell_type": "code",
   "execution_count": 438,
   "metadata": {
    "collapsed": true
   },
   "outputs": [],
   "source": [
    "def print_importances(estimator):\n",
    "    for name, importance in sorted(zip(test, estimator.feature_importances_), key=operator.itemgetter(1), reverse=True):\n",
    "        print(f'{name}: {importance:.7f}')"
   ]
  },
  {
   "cell_type": "code",
   "execution_count": 400,
   "metadata": {
    "collapsed": true
   },
   "outputs": [],
   "source": [
    "# cardio_params = {'base_score': 0.51, 'gamma': 0.18, 'max_depth': 5, 'n_estimators': 80, 'reg_alpha': 0.019999999999999997, 'reg_lambda': 0.99, 'scale_pos_weight': 1.0, 'subsample': 1.0, 'colsample_bytree': 1.0}"
   ]
  },
  {
   "cell_type": "code",
   "execution_count": 401,
   "metadata": {
    "scrolled": true
   },
   "outputs": [
    {
     "name": "stdout",
     "output_type": "stream",
     "text": [
      "\n",
      "[34s] -0.5386815149 {'gamma': 0.18} | {'gamma': [0.16999999999999998, 0.18, 0.19]}\n",
      "[36s] -0.5386815149 {'base_score': 0.51} | {'base_score': [0.5, 0.51, 0.52]}\n",
      "[22s] -0.5386815149 {'colsample_bytree': 1.0} | {'colsample_bytree': [0.99, 1.0]}\n",
      "[23s] -0.5386815149 {'scale_pos_weight': 1.0} | {'scale_pos_weight': [0.99, 1.0]}\n",
      "[23s] -0.5386815149 {'subsample': 1.0} | {'subsample': [0.99, 1.0]}\n",
      "[34s] -0.5386654824 {'reg_lambda': 0.98} | {'reg_lambda': [0.98, 0.99, 1.0]}\n",
      "[33s] -0.5386216907 {'reg_alpha': 0.03} | {'reg_alpha': [0.009999999999999997, 0.019999999999999997, 0.03]}\n",
      "[78s] -0.5386106498 {'n_estimators': 78} | {'n_estimators': [77, 78, 79, 80, 81, 82, 83]}\n",
      "[33s] -0.5386106498 {'max_depth': 5} | {'max_depth': [4, 5, 6]}\n",
      "\n",
      "[33s] -0.5386106498 {'base_score': 0.51} | {'base_score': [0.5, 0.51, 0.52]}\n",
      "[33s] -0.5386100448 {'gamma': 0.19} | {'gamma': [0.16999999999999998, 0.18, 0.19]}\n",
      "[22s] -0.5386100448 {'scale_pos_weight': 1.0} | {'scale_pos_weight': [0.99, 1.0]}\n",
      "[33s] -0.5386100448 {'reg_lambda': 0.98} | {'reg_lambda': [0.97, 0.98, 0.99]}\n",
      "[33s] -0.5386100448 {'max_depth': 5} | {'max_depth': [4, 5, 6]}\n",
      "[76s] -0.5386078727 {'n_estimators': 81} | {'n_estimators': [75, 76, 77, 78, 79, 80, 81]}\n",
      "[23s] -0.5386078727 {'subsample': 1.0} | {'subsample': [0.99, 1.0]}\n",
      "[22s] -0.5386078727 {'colsample_bytree': 1.0} | {'colsample_bytree': [0.99, 1.0]}\n",
      "[34s] -0.5386078727 {'reg_alpha': 0.03} | {'reg_alpha': [0.019999999999999997, 0.03, 0.04]}\n",
      "\n",
      "[23s] -0.5386078727 {'scale_pos_weight': 1.0} | {'scale_pos_weight': [0.99, 1.0]}\n",
      "[78s] -0.5386078727 {'n_estimators': 81} | {'n_estimators': [78, 79, 80, 81, 82, 83, 84]}\n",
      "[34s] -0.5386078727 {'reg_lambda': 0.98} | {'reg_lambda': [0.97, 0.98, 0.99]}\n",
      "[23s] -0.5386078727 {'subsample': 1.0} | {'subsample': [0.99, 1.0]}\n",
      "[22s] -0.5386078727 {'colsample_bytree': 1.0} | {'colsample_bytree': [0.99, 1.0]}\n",
      "[34s] -0.5386078727 {'reg_alpha': 0.03} | {'reg_alpha': [0.019999999999999997, 0.03, 0.04]}\n",
      "[34s] -0.5386078727 {'base_score': 0.51} | {'base_score': [0.5, 0.51, 0.52]}\n",
      "[34s] -0.5386078727 {'gamma': 0.19} | {'gamma': [0.18, 0.19, 0.2]}\n",
      "[34s] -0.5386078727 {'max_depth': 5} | {'max_depth': [4, 5, 6]}\n",
      "---------------------------------------------------\n",
      "{'base_score': 0.51, 'gamma': 0.19, 'max_depth': 5, 'n_estimators': 81, 'reg_alpha': 0.03, 'reg_lambda': 0.98, 'scale_pos_weight': 1.0, 'subsample': 1.0, 'colsample_bytree': 1.0}\n",
      "age: 0.2603929\n",
      "bmi: 0.1681133\n",
      "ap_hi: 0.1206030\n",
      "height: 0.0959342\n",
      "weight: 0.0941069\n",
      "ap_lo: 0.0758337\n",
      "cholesterol: 0.0662403\n",
      "gluc: 0.0461398\n",
      "active: 0.0301508\n",
      "smoke: 0.0155322\n",
      "gender: 0.0137049\n",
      "alco: 0.0132481\n"
     ]
    }
   ],
   "source": [
    "cardio_estimator = search_xgb(X, y, cardio_params)\n",
    "print_importances(cardio_estimator)"
   ]
  },
  {
   "cell_type": "code",
   "execution_count": 402,
   "metadata": {
    "scrolled": true
   },
   "outputs": [],
   "source": [
    "test = read_csv('test.csv')\n",
    "X_helper_test = test.drop(['smoke', 'alco', 'active'], axis=1).values\n",
    "\n",
    "test['smoke'].fillna(pandas.Series(smoke_estimator.predict_proba(X_helper_test)[:, 1]), inplace=True)\n",
    "test['alco'].fillna(pandas.Series(alco_estimator.predict_proba(X_helper_test)[:, 1]), inplace=True)\n",
    "test['active'].fillna(pandas.Series(active_estimator.predict_proba(X_helper_test)[:, 1]), inplace=True)\n",
    "\n",
    "numpy.savetxt(f'xgboost.txt', cardio_estimator.predict_proba(test.values)[:, 1], fmt='%f')"
   ]
  }
 ],
 "metadata": {
  "kernelspec": {
   "display_name": "Python 3",
   "language": "python",
   "name": "python3"
  }
 },
 "nbformat": 4,
 "nbformat_minor": 2
}
