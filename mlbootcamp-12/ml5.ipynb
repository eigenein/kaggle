{
 "cells": [
  {
   "cell_type": "code",
   "execution_count": 193,
   "metadata": {},
   "outputs": [],
   "source": [
    "import datetime\n",
    "import hyperopt\n",
    "import itertools\n",
    "import math\n",
    "import numpy\n",
    "import operator\n",
    "import pandas\n",
    "import random\n",
    "import requests\n",
    "from IPython.display import Audio\n",
    "from sklearn import (\n",
    "    calibration,\n",
    "    ensemble,\n",
    "    linear_model,\n",
    "    metrics,\n",
    "    model_selection,\n",
    "    naive_bayes,\n",
    "    neighbors,\n",
    "    neural_network,\n",
    "    svm,\n",
    ")\n",
    "import time\n",
    "import tqdm\n",
    "import xgboost"
   ]
  },
  {
   "cell_type": "markdown",
   "metadata": {},
   "source": [
    "### Read and Filter"
   ]
  },
  {
   "cell_type": "code",
   "execution_count": 207,
   "metadata": {},
   "outputs": [],
   "source": [
    "dtype = {'smoke': float, 'alco': float, 'active': float}\n",
    "\n",
    "def fix_ap(value):\n",
    "    value = abs(value)\n",
    "    while value > 500.0:\n",
    "        value /= 10.0\n",
    "    return value\n",
    "\n",
    "def read_csv(filename):\n",
    "    frame = pandas.read_csv(filename, sep=';', header=0, na_values='None', dtype=dtype).drop(['id'], axis=1)\n",
    "    \n",
    "    frame = pandas.get_dummies(frame, columns=[\n",
    "        # 'smoke',\n",
    "        # 'active',\n",
    "        # 'alco',\n",
    "        # 'gender',\n",
    "        # 'cholesterol',\n",
    "        # 'gluc',\n",
    "    ])\n",
    "    frame = frame.assign(\n",
    "        bmi=(frame['weight'] / frame['height'] ** 2),\n",
    "        # aged_smoke_0=(frame['smoke_0.0'] * frame['age']),\n",
    "        # aged_smoke_1=(frame['smoke_1.0'] * frame['age']),\n",
    "        # aged_active_0=(frame['active_0.0'] * frame['age']),\n",
    "        # aged_active_1=(frame['active_1.0'] * frame['age']),\n",
    "        # aged_alco_0=(frame['alco_0.0'] * frame['age']),\n",
    "        # aged_alco_1=(frame['alco_1.0'] * frame['age']),\n",
    "        # smoke_1_active_0=(frame['smoke_1.0'] * frame['active_0.0']),\n",
    "    )\n",
    "    frame = frame.drop([\n",
    "        # 'smoke',\n",
    "        # 'alco',\n",
    "        # 'active',\n",
    "    ], axis=1)\n",
    "    \n",
    "    frame['ap_hi'] = frame['ap_hi'].apply(fix_ap)\n",
    "    \n",
    "    return frame"
   ]
  },
  {
   "cell_type": "code",
   "execution_count": 208,
   "metadata": {},
   "outputs": [
    {
     "name": "stdout",
     "output_type": "stream",
     "text": [
      "X: (70000, 12)\n",
      "y: (70000,)\n"
     ]
    }
   ],
   "source": [
    "train = read_csv('train.csv')\n",
    "\n",
    "X = train.drop('cardio', axis=1).values\n",
    "y = train['cardio'].values\n",
    "print(f'X: {X.shape}')\n",
    "print(f'y: {y.shape}')"
   ]
  },
  {
   "cell_type": "markdown",
   "metadata": {},
   "source": [
    "### Hyper-parameter Optimisation"
   ]
  },
  {
   "cell_type": "code",
   "execution_count": 372,
   "metadata": {},
   "outputs": [],
   "source": [
    "def cv():\n",
    "    return model_selection.StratifiedKFold(n_splits=10, shuffle=True, random_state=0)\n",
    "\n",
    "def print_importances(estimator):\n",
    "    for name, importance in sorted(zip(test, estimator.feature_importances_), key=operator.itemgetter(1), reverse=True):\n",
    "        print(f'{name}: {importance:.7f}')\n",
    "\n",
    "def make_int_grid(params, param_name, delta):\n",
    "    n = params.get(param_name, 1)\n",
    "    return {param_name: list(range(max(1, n - delta), n + delta + 1))}\n",
    "\n",
    "def make_float_grid(params, param_name, delta, min_, max_, default=0.0):\n",
    "    x = params.get(param_name, default)\n",
    "    return {param_name: sorted({max(min_, x - delta), x, min(max_, x + delta)})}\n",
    "\n",
    "def search(estimator, X, y, params, **param_grid):\n",
    "    start_time = time.time()\n",
    "    grid_search = model_selection.GridSearchCV(\n",
    "        estimator.set_params(**params),\n",
    "        param_grid,\n",
    "        scoring='neg_log_loss',\n",
    "        refit=False,\n",
    "        cv=cv(),\n",
    "    ).fit(X, y)\n",
    "    params.update(grid_search.best_params_)\n",
    "    print(f'[{(time.time() - start_time):.0f}s] {grid_search.best_score_:.10f} {grid_search.best_params_} | {param_grid}')\n",
    "\n",
    "def search_xgb(X, y, params):\n",
    "    estimator = xgboost.XGBClassifier(nthread=4, seed=0)\n",
    "    for _ in range(100):\n",
    "        print()\n",
    "        searches = [\n",
    "            lambda: search(estimator, X, y, params, **make_float_grid(params, 'colsample_bytree', 0.01, 0.5, 1.0, 1.0)),\n",
    "            lambda: search(estimator, X, y, params, **make_float_grid(params, 'subsample', 0.01, 0.5, 1.0, 1.0)),\n",
    "            lambda: search(estimator, X, y, params, **make_float_grid(params, 'base_score', 0.01, 0.0, 1.0)),\n",
    "            lambda: search(estimator, X, y, params, **make_float_grid(params, 'scale_pos_weight', 0.01, 0.0, 1.0)),\n",
    "            lambda: search(estimator, X, y, params, **make_float_grid(params, 'reg_lambda', 0.01, 0.0, 1.0)),\n",
    "            lambda: search(estimator, X, y, params, **make_float_grid(params, 'reg_alpha', 0.01, 0.0, 1.0)),\n",
    "            lambda: search(estimator, X, y, params, **make_float_grid(params, 'gamma', 0.01, 0.0, 1.0)),\n",
    "            lambda: search(estimator, X, y, params, **make_int_grid(params, 'max_depth', 1)),\n",
    "            lambda: search(estimator, X, y, params, **make_int_grid(params, 'n_estimators', 3)),\n",
    "        ]\n",
    "        random.shuffle(searches)\n",
    "        last_params = dict(params)\n",
    "        for _search in searches:\n",
    "            _search()\n",
    "        if params == last_params:\n",
    "            break\n",
    "    \n",
    "    print('---------------------------------------------------')\n",
    "    print(params)\n",
    "    return estimator.set_params(**params).fit(X, y)"
   ]
  },
  {
   "cell_type": "markdown",
   "metadata": {},
   "source": [
    "### Predict `smoke`, `alco` and `active`"
   ]
  },
  {
   "cell_type": "code",
   "execution_count": 296,
   "metadata": {},
   "outputs": [],
   "source": [
    "X_helper = train.drop(['smoke', 'alco', 'active', 'cardio'], axis=1).values\n",
    "\n",
    "y_smoke = train['smoke'].values\n",
    "y_alco = train['alco'].values\n",
    "y_active = train['active'].values"
   ]
  },
  {
   "cell_type": "code",
   "execution_count": 360,
   "metadata": {},
   "outputs": [],
   "source": [
    "# smoke_params = {'base_score': 0.53, 'scale_pos_weight': 1.0, 'reg_lambda': 0.98, 'reg_alpha': 0.01, 'gamma': 0.03999999999999997, 'max_depth': 3, 'n_estimators': 79, 'subsample': 0.5, 'colsample_bytree': 0.7799999999999998}\n",
    "# alco_params = {'base_score': 0.52, 'scale_pos_weight': 1.0, 'reg_lambda': 0.97, 'reg_alpha': 0.0, 'gamma': 0.19, 'max_depth': 3, 'n_estimators': 89, 'colsample_bytree': 1.0, 'subsample': 0.98}\n",
    "# active_params = {'base_score': 0.52, 'scale_pos_weight': 0.98, 'reg_lambda': 0.99, 'reg_alpha': 0.019999999999999997, 'gamma': 0.16999999999999998, 'max_depth': 5, 'n_estimators': 82, 'colsample_bytree': 0.8899999999999999, 'subsample': 0.99}"
   ]
  },
  {
   "cell_type": "code",
   "execution_count": 373,
   "metadata": {},
   "outputs": [
    {
     "name": "stdout",
     "output_type": "stream",
     "text": [
      "\n",
      "[11s] -0.2390162587 {'reg_alpha': 0.01} | {'reg_alpha': [0.0, 0.01]}\n",
      "[17s] -0.2390162587 {'colsample_bytree': 0.7799999999999998} | {'colsample_bytree': [0.7699999999999998, 0.7799999999999998, 0.7899999999999998]}\n",
      "[11s] -0.2390162587 {'scale_pos_weight': 1.0} | {'scale_pos_weight': [0.99, 1.0]}\n",
      "[19s] -0.2388354244 {'max_depth': 3} | {'max_depth': [1, 2, 3]}\n",
      "[54s] -0.2388354244 {'n_estimators': 79} | {'n_estimators': [76, 77, 78, 79, 80, 81, 82]}\n",
      "[15s] -0.2388212301 {'reg_lambda': 0.99} | {'reg_lambda': [0.99, 1.0]}\n",
      "[23s] -0.2387788451 {'base_score': 0.53} | {'base_score': [0.51, 0.52, 0.53]}\n",
      "[16s] -0.2387788451 {'subsample': 0.5} | {'subsample': [0.5, 0.51]}\n",
      "[25s] -0.2387788451 {'gamma': 0.02999999999999997} | {'gamma': [0.02999999999999997, 0.03999999999999997, 0.049999999999999975]}\n",
      "\n",
      "[24s] -0.2387788451 {'colsample_bytree': 0.7799999999999998} | {'colsample_bytree': [0.7699999999999998, 0.7799999999999998, 0.7899999999999998]}\n",
      "[54s] -0.2387788451 {'n_estimators': 79} | {'n_estimators': [76, 77, 78, 79, 80, 81, 82]}\n",
      "[25s] -0.2387788451 {'max_depth': 3} | {'max_depth': [2, 3, 4]}\n",
      "[16s] -0.2387788451 {'scale_pos_weight': 1.0} | {'scale_pos_weight': [0.99, 1.0]}\n",
      "[15s] -0.2387788451 {'subsample': 0.5} | {'subsample': [0.5, 0.51]}\n",
      "[22s] -0.2387788451 {'base_score': 0.53} | {'base_score': [0.52, 0.53, 0.54]}\n",
      "[22s] -0.2387684390 {'reg_lambda': 0.98} | {'reg_lambda': [0.98, 0.99, 1.0]}\n",
      "[22s] -0.2387684390 {'reg_alpha': 0.01} | {'reg_alpha': [0.0, 0.01, 0.02]}\n",
      "[22s] -0.2387683749 {'gamma': 0.03999999999999997} | {'gamma': [0.01999999999999997, 0.02999999999999997, 0.03999999999999997]}\n",
      "\n",
      "[53s] -0.2387683749 {'n_estimators': 79} | {'n_estimators': [76, 77, 78, 79, 80, 81, 82]}\n",
      "[15s] -0.2387683749 {'subsample': 0.5} | {'subsample': [0.5, 0.51]}\n",
      "[15s] -0.2387683749 {'scale_pos_weight': 1.0} | {'scale_pos_weight': [0.99, 1.0]}\n",
      "[22s] -0.2387683749 {'base_score': 0.53} | {'base_score': [0.52, 0.53, 0.54]}\n",
      "[22s] -0.2387683749 {'reg_alpha': 0.01} | {'reg_alpha': [0.0, 0.01, 0.02]}\n",
      "[22s] -0.2387683749 {'gamma': 0.03999999999999997} | {'gamma': [0.02999999999999997, 0.03999999999999997, 0.049999999999999975]}\n",
      "[24s] -0.2387683749 {'max_depth': 3} | {'max_depth': [2, 3, 4]}\n",
      "[22s] -0.2387683749 {'reg_lambda': 0.98} | {'reg_lambda': [0.97, 0.98, 0.99]}\n",
      "[22s] -0.2387683749 {'colsample_bytree': 0.7799999999999998} | {'colsample_bytree': [0.7699999999999998, 0.7799999999999998, 0.7899999999999998]}\n",
      "---------------------------------------------------\n",
      "{'base_score': 0.53, 'scale_pos_weight': 1.0, 'reg_lambda': 0.98, 'reg_alpha': 0.01, 'gamma': 0.03999999999999997, 'max_depth': 3, 'n_estimators': 79, 'subsample': 0.5, 'colsample_bytree': 0.7799999999999998}\n"
     ]
    }
   ],
   "source": [
    "smoke_estimator = search_xgb(X_helper, y_smoke, smoke_params)"
   ]
  },
  {
   "cell_type": "code",
   "execution_count": 374,
   "metadata": {},
   "outputs": [
    {
     "name": "stdout",
     "output_type": "stream",
     "text": [
      "\n",
      "[22s] -0.1923384277 {'reg_lambda': 0.99} | {'reg_lambda': [0.98, 0.99, 1.0]}\n",
      "[14s] -0.1923384277 {'colsample_bytree': 1.0} | {'colsample_bytree': [0.99, 1.0]}\n",
      "[54s] -0.1923239729 {'n_estimators': 90} | {'n_estimators': [85, 86, 87, 88, 89, 90, 91]}\n",
      "[22s] -0.1923239729 {'max_depth': 3} | {'max_depth': [2, 3, 4]}\n",
      "[16s] -0.1923239729 {'reg_alpha': 0.0} | {'reg_alpha': [0.0, 0.01]}\n",
      "[22s] -0.1923229018 {'base_score': 0.53} | {'base_score': [0.53, 0.54, 0.55]}\n",
      "[22s] -0.1923229018 {'subsample': 0.98} | {'subsample': [0.97, 0.98, 0.99]}\n",
      "[15s] -0.1923229018 {'scale_pos_weight': 1.0} | {'scale_pos_weight': [0.99, 1.0]}\n",
      "[22s] -0.1923228143 {'gamma': 0.16999999999999998} | {'gamma': [0.14999999999999997, 0.15999999999999998, 0.16999999999999998]}\n",
      "\n",
      "[15s] -0.1923228143 {'scale_pos_weight': 1.0} | {'scale_pos_weight': [0.99, 1.0]}\n",
      "[22s] -0.1923228143 {'subsample': 0.98} | {'subsample': [0.97, 0.98, 0.99]}\n",
      "[23s] -0.1923228143 {'max_depth': 3} | {'max_depth': [2, 3, 4]}\n",
      "[15s] -0.1923228143 {'reg_alpha': 0.0} | {'reg_alpha': [0.0, 0.01]}\n",
      "[22s] -0.1923004699 {'reg_lambda': 0.98} | {'reg_lambda': [0.98, 0.99, 1.0]}\n",
      "[23s] -0.1922862934 {'base_score': 0.52} | {'base_score': [0.52, 0.53, 0.54]}\n",
      "[23s] -0.1922862933 {'gamma': 0.18} | {'gamma': [0.15999999999999998, 0.16999999999999998, 0.18]}\n",
      "[15s] -0.1922862933 {'colsample_bytree': 1.0} | {'colsample_bytree': [0.99, 1.0]}\n",
      "[54s] -0.1922800246 {'n_estimators': 89} | {'n_estimators': [87, 88, 89, 90, 91, 92, 93]}\n",
      "\n",
      "[15s] -0.1922800246 {'reg_alpha': 0.0} | {'reg_alpha': [0.0, 0.01]}\n",
      "[24s] -0.1922800246 {'subsample': 0.98} | {'subsample': [0.97, 0.98, 0.99]}\n",
      "[15s] -0.1922800246 {'scale_pos_weight': 1.0} | {'scale_pos_weight': [0.99, 1.0]}\n",
      "[22s] -0.1922800246 {'gamma': 0.18} | {'gamma': [0.16999999999999998, 0.18, 0.19]}\n",
      "[23s] -0.1922694018 {'reg_lambda': 0.97} | {'reg_lambda': [0.97, 0.98, 0.99]}\n",
      "[23s] -0.1922694018 {'max_depth': 3} | {'max_depth': [2, 3, 4]}\n",
      "[14s] -0.1922694018 {'colsample_bytree': 1.0} | {'colsample_bytree': [0.99, 1.0]}\n",
      "[53s] -0.1922694018 {'n_estimators': 89} | {'n_estimators': [86, 87, 88, 89, 90, 91, 92]}\n",
      "[22s] -0.1922694018 {'base_score': 0.52} | {'base_score': [0.51, 0.52, 0.53]}\n",
      "\n",
      "[22s] -0.1922694018 {'subsample': 0.98} | {'subsample': [0.97, 0.98, 0.99]}\n",
      "[52s] -0.1922694018 {'n_estimators': 89} | {'n_estimators': [86, 87, 88, 89, 90, 91, 92]}\n",
      "[24s] -0.1922694018 {'max_depth': 3} | {'max_depth': [2, 3, 4]}\n",
      "[22s] -0.1922694018 {'reg_lambda': 0.97} | {'reg_lambda': [0.96, 0.97, 0.98]}\n",
      "[16s] -0.1922694018 {'colsample_bytree': 1.0} | {'colsample_bytree': [0.99, 1.0]}\n",
      "[24s] -0.1922694017 {'gamma': 0.19} | {'gamma': [0.16999999999999998, 0.18, 0.19]}\n",
      "[16s] -0.1922694017 {'reg_alpha': 0.0} | {'reg_alpha': [0.0, 0.01]}\n",
      "[22s] -0.1922694017 {'base_score': 0.52} | {'base_score': [0.51, 0.52, 0.53]}\n",
      "[16s] -0.1922694017 {'scale_pos_weight': 1.0} | {'scale_pos_weight': [0.99, 1.0]}\n",
      "\n",
      "[16s] -0.1922694017 {'scale_pos_weight': 1.0} | {'scale_pos_weight': [0.99, 1.0]}\n",
      "[23s] -0.1922694017 {'reg_lambda': 0.97} | {'reg_lambda': [0.96, 0.97, 0.98]}\n",
      "[22s] -0.1922694017 {'max_depth': 3} | {'max_depth': [2, 3, 4]}\n",
      "[15s] -0.1922694017 {'reg_alpha': 0.0} | {'reg_alpha': [0.0, 0.01]}\n",
      "[24s] -0.1922694017 {'gamma': 0.19} | {'gamma': [0.18, 0.19, 0.2]}\n",
      "[23s] -0.1922694017 {'base_score': 0.52} | {'base_score': [0.51, 0.52, 0.53]}\n",
      "[22s] -0.1922694017 {'subsample': 0.98} | {'subsample': [0.97, 0.98, 0.99]}\n",
      "[52s] -0.1922694017 {'n_estimators': 89} | {'n_estimators': [86, 87, 88, 89, 90, 91, 92]}\n",
      "[15s] -0.1922694017 {'colsample_bytree': 1.0} | {'colsample_bytree': [0.99, 1.0]}\n",
      "---------------------------------------------------\n",
      "{'base_score': 0.52, 'scale_pos_weight': 1.0, 'reg_lambda': 0.97, 'reg_alpha': 0.0, 'gamma': 0.19, 'max_depth': 3, 'n_estimators': 89, 'colsample_bytree': 1.0, 'subsample': 0.98}\n"
     ]
    }
   ],
   "source": [
    "alco_estimator = search_xgb(X_helper, y_alco, alco_params)"
   ]
  },
  {
   "cell_type": "code",
   "execution_count": 375,
   "metadata": {
    "scrolled": true
   },
   "outputs": [
    {
     "name": "stdout",
     "output_type": "stream",
     "text": [
      "\n",
      "[32s] -0.4923239737 {'base_score': 0.52} | {'base_score': [0.5, 0.51, 0.52]}\n",
      "[31s] -0.4923239737 {'reg_alpha': 0.019999999999999997} | {'reg_alpha': [0.009999999999999997, 0.019999999999999997, 0.03]}\n",
      "[30s] -0.4923239737 {'subsample': 0.99} | {'subsample': [0.98, 0.99, 1.0]}\n",
      "[31s] -0.4923239737 {'scale_pos_weight': 0.98} | {'scale_pos_weight': [0.97, 0.98, 0.99]}\n",
      "[31s] -0.4923239737 {'gamma': 0.16999999999999998} | {'gamma': [0.15999999999999998, 0.16999999999999998, 0.18]}\n",
      "[72s] -0.4922901218 {'n_estimators': 84} | {'n_estimators': [83, 84, 85, 86, 87, 88, 89]}\n",
      "[30s] -0.4922901218 {'max_depth': 5} | {'max_depth': [4, 5, 6]}\n",
      "[30s] -0.4922901218 {'colsample_bytree': 0.8899999999999999} | {'colsample_bytree': [0.8799999999999999, 0.8899999999999999, 0.8999999999999999]}\n",
      "[30s] -0.4922901218 {'reg_lambda': 0.99} | {'reg_lambda': [0.98, 0.99, 1.0]}\n",
      "\n",
      "[70s] -0.4922820367 {'n_estimators': 82} | {'n_estimators': [81, 82, 83, 84, 85, 86, 87]}\n",
      "[29s] -0.4922820367 {'subsample': 0.99} | {'subsample': [0.98, 0.99, 1.0]}\n",
      "[29s] -0.4922820367 {'colsample_bytree': 0.8899999999999999} | {'colsample_bytree': [0.8799999999999999, 0.8899999999999999, 0.8999999999999999]}\n",
      "[30s] -0.4922820367 {'scale_pos_weight': 0.98} | {'scale_pos_weight': [0.97, 0.98, 0.99]}\n",
      "[29s] -0.4922820367 {'max_depth': 5} | {'max_depth': [4, 5, 6]}\n",
      "[30s] -0.4922820367 {'reg_alpha': 0.019999999999999997} | {'reg_alpha': [0.009999999999999997, 0.019999999999999997, 0.03]}\n",
      "[29s] -0.4922820367 {'reg_lambda': 0.99} | {'reg_lambda': [0.98, 0.99, 1.0]}\n",
      "[29s] -0.4922820367 {'base_score': 0.52} | {'base_score': [0.51, 0.52, 0.53]}\n",
      "[29s] -0.4922820367 {'gamma': 0.16999999999999998} | {'gamma': [0.15999999999999998, 0.16999999999999998, 0.18]}\n",
      "\n",
      "[28s] -0.4922820367 {'subsample': 0.99} | {'subsample': [0.98, 0.99, 1.0]}\n",
      "[29s] -0.4922820367 {'scale_pos_weight': 0.98} | {'scale_pos_weight': [0.97, 0.98, 0.99]}\n",
      "[30s] -0.4922820367 {'reg_lambda': 0.99} | {'reg_lambda': [0.98, 0.99, 1.0]}\n",
      "[70s] -0.4922820367 {'n_estimators': 82} | {'n_estimators': [79, 80, 81, 82, 83, 84, 85]}\n",
      "[29s] -0.4922820367 {'colsample_bytree': 0.8899999999999999} | {'colsample_bytree': [0.8799999999999999, 0.8899999999999999, 0.8999999999999999]}\n",
      "[30s] -0.4922820367 {'base_score': 0.52} | {'base_score': [0.51, 0.52, 0.53]}\n",
      "[30s] -0.4922820367 {'reg_alpha': 0.019999999999999997} | {'reg_alpha': [0.009999999999999997, 0.019999999999999997, 0.03]}\n",
      "[30s] -0.4922820367 {'max_depth': 5} | {'max_depth': [4, 5, 6]}\n",
      "[30s] -0.4922820367 {'gamma': 0.16999999999999998} | {'gamma': [0.15999999999999998, 0.16999999999999998, 0.18]}\n",
      "---------------------------------------------------\n",
      "{'base_score': 0.52, 'scale_pos_weight': 0.98, 'reg_lambda': 0.99, 'reg_alpha': 0.019999999999999997, 'gamma': 0.16999999999999998, 'max_depth': 5, 'n_estimators': 82, 'colsample_bytree': 0.8899999999999999, 'subsample': 0.99}\n"
     ]
    }
   ],
   "source": [
    "active_estimator = search_xgb(X_helper, y_active, active_params)"
   ]
  },
  {
   "cell_type": "markdown",
   "metadata": {},
   "source": [
    "### Predict `cardio`"
   ]
  },
  {
   "cell_type": "code",
   "execution_count": 377,
   "metadata": {
    "collapsed": true
   },
   "outputs": [],
   "source": [
    "# cardio_params = {'base_score': 0.51, 'gamma': 0.18, 'max_depth': 5, 'n_estimators': 80, 'reg_alpha': 0.019999999999999997, 'reg_lambda': 0.99, 'scale_pos_weight': 1.0, 'subsample': 1.0, 'colsample_bytree': 1.0}"
   ]
  },
  {
   "cell_type": "code",
   "execution_count": 378,
   "metadata": {
    "scrolled": true
   },
   "outputs": [
    {
     "name": "stdout",
     "output_type": "stream",
     "text": [
      "\n",
      "[34s] -0.5384644044 {'gamma': 0.18} | {'gamma': [0.16999999999999998, 0.18, 0.19]}\n",
      "[23s] -0.5384644044 {'subsample': 1.0} | {'subsample': [0.99, 1.0]}\n",
      "[23s] -0.5384644044 {'scale_pos_weight': 1.0} | {'scale_pos_weight': [0.99, 1.0]}\n",
      "[34s] -0.5384644044 {'max_depth': 5} | {'max_depth': [4, 5, 6]}\n",
      "[33s] -0.5384644044 {'reg_alpha': 0.019999999999999997} | {'reg_alpha': [0.009999999999999997, 0.019999999999999997, 0.03]}\n",
      "[33s] -0.5384644044 {'reg_lambda': 0.99} | {'reg_lambda': [0.98, 0.99, 1.0]}\n",
      "[22s] -0.5384644044 {'colsample_bytree': 1.0} | {'colsample_bytree': [0.99, 1.0]}\n",
      "[77s] -0.5384644044 {'n_estimators': 80} | {'n_estimators': [77, 78, 79, 80, 81, 82, 83]}\n",
      "[33s] -0.5384644044 {'base_score': 0.51} | {'base_score': [0.5, 0.51, 0.52]}\n",
      "\n",
      "[77s] -0.5384644044 {'n_estimators': 80} | {'n_estimators': [77, 78, 79, 80, 81, 82, 83]}\n",
      "[22s] -0.5384644044 {'colsample_bytree': 1.0} | {'colsample_bytree': [0.99, 1.0]}\n",
      "[34s] -0.5384644044 {'base_score': 0.51} | {'base_score': [0.5, 0.51, 0.52]}\n",
      "[34s] -0.5384644044 {'reg_lambda': 0.99} | {'reg_lambda': [0.98, 0.99, 1.0]}\n",
      "[23s] -0.5384644044 {'scale_pos_weight': 1.0} | {'scale_pos_weight': [0.99, 1.0]}\n",
      "[23s] -0.5384644044 {'subsample': 1.0} | {'subsample': [0.99, 1.0]}\n",
      "[34s] -0.5384644044 {'reg_alpha': 0.019999999999999997} | {'reg_alpha': [0.009999999999999997, 0.019999999999999997, 0.03]}\n",
      "[34s] -0.5384644044 {'max_depth': 5} | {'max_depth': [4, 5, 6]}\n",
      "[35s] -0.5384644044 {'gamma': 0.18} | {'gamma': [0.16999999999999998, 0.18, 0.19]}\n",
      "---------------------------------------------------\n",
      "{'base_score': 0.51, 'gamma': 0.18, 'max_depth': 5, 'n_estimators': 80, 'reg_alpha': 0.019999999999999997, 'reg_lambda': 0.99, 'scale_pos_weight': 1.0, 'subsample': 1.0, 'colsample_bytree': 1.0}\n",
      "age: 0.2551440\n",
      "bmi: 0.1627801\n",
      "ap_hi: 0.1252858\n",
      "height: 0.1001372\n",
      "weight: 0.0960220\n",
      "ap_lo: 0.0759031\n",
      "cholesterol: 0.0653864\n",
      "gluc: 0.0480110\n",
      "active: 0.0301783\n",
      "smoke: 0.0169182\n",
      "alco: 0.0132602\n",
      "gender: 0.0109739\n"
     ]
    }
   ],
   "source": [
    "cardio_estimator = search_xgb(X, y, cardio_params)\n",
    "print_importances(cardio_estimator)"
   ]
  },
  {
   "cell_type": "code",
   "execution_count": 379,
   "metadata": {
    "scrolled": true
   },
   "outputs": [],
   "source": [
    "test = read_csv('test.csv')\n",
    "X_helper_test = test.drop(['smoke', 'alco', 'active'], axis=1).values\n",
    "\n",
    "# TODO: try with normal predict.\n",
    "test['smoke'].fillna(pandas.Series(smoke_estimator.predict_proba(X_helper_test)[:, 1]), inplace=True)\n",
    "test['alco'].fillna(pandas.Series(alco_estimator.predict_proba(X_helper_test)[:, 1]), inplace=True)\n",
    "test['active'].fillna(pandas.Series(active_estimator.predict_proba(X_helper_test)[:, 1]), inplace=True)\n",
    "\n",
    "numpy.savetxt(f'xgboost.txt', cardio_estimator.predict_proba(test.values)[:, 1], fmt='%f')"
   ]
  }
 ],
 "metadata": {
  "kernelspec": {
   "display_name": "Python 3",
   "language": "python",
   "name": "python3"
  }
 },
 "nbformat": 4,
 "nbformat_minor": 2
}
