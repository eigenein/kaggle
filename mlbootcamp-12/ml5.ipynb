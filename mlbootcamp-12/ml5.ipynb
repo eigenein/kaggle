{
 "cells": [
  {
   "cell_type": "code",
   "execution_count": 193,
   "metadata": {},
   "outputs": [],
   "source": [
    "import datetime\n",
    "import hyperopt\n",
    "import itertools\n",
    "import math\n",
    "import numpy\n",
    "import operator\n",
    "import pandas\n",
    "import random\n",
    "import requests\n",
    "from IPython.display import Audio\n",
    "from sklearn import (\n",
    "    calibration,\n",
    "    ensemble,\n",
    "    linear_model,\n",
    "    metrics,\n",
    "    model_selection,\n",
    "    naive_bayes,\n",
    "    neighbors,\n",
    "    neural_network,\n",
    "    svm,\n",
    ")\n",
    "import time\n",
    "import tqdm\n",
    "import xgboost"
   ]
  },
  {
   "cell_type": "markdown",
   "metadata": {},
   "source": [
    "### Read and Filter"
   ]
  },
  {
   "cell_type": "code",
   "execution_count": 207,
   "metadata": {},
   "outputs": [],
   "source": [
    "dtype = {'smoke': float, 'alco': float, 'active': float}\n",
    "\n",
    "def fix_ap(value):\n",
    "    value = abs(value)\n",
    "    while value > 500.0:\n",
    "        value /= 10.0\n",
    "    return value\n",
    "\n",
    "def read_csv(filename):\n",
    "    frame = pandas.read_csv(filename, sep=';', header=0, na_values='None', dtype=dtype).drop(['id'], axis=1)\n",
    "    \n",
    "    frame = pandas.get_dummies(frame, columns=[\n",
    "        # 'smoke',\n",
    "        # 'active',\n",
    "        # 'alco',\n",
    "        # 'gender',\n",
    "        # 'cholesterol',\n",
    "        # 'gluc',\n",
    "    ])\n",
    "    frame = frame.assign(\n",
    "        bmi=(frame['weight'] / frame['height'] ** 2),\n",
    "        # aged_smoke_0=(frame['smoke_0.0'] * frame['age']),\n",
    "        # aged_smoke_1=(frame['smoke_1.0'] * frame['age']),\n",
    "        # aged_active_0=(frame['active_0.0'] * frame['age']),\n",
    "        # aged_active_1=(frame['active_1.0'] * frame['age']),\n",
    "        # aged_alco_0=(frame['alco_0.0'] * frame['age']),\n",
    "        # aged_alco_1=(frame['alco_1.0'] * frame['age']),\n",
    "        # smoke_1_active_0=(frame['smoke_1.0'] * frame['active_0.0']),\n",
    "    )\n",
    "    frame = frame.drop([\n",
    "        # 'smoke',\n",
    "        # 'alco',\n",
    "        # 'active',\n",
    "    ], axis=1)\n",
    "    \n",
    "    frame['ap_hi'] = frame['ap_hi'].apply(fix_ap)\n",
    "    \n",
    "    return frame"
   ]
  },
  {
   "cell_type": "code",
   "execution_count": 208,
   "metadata": {},
   "outputs": [
    {
     "name": "stdout",
     "output_type": "stream",
     "text": [
      "X: (70000, 12)\n",
      "y: (70000,)\n"
     ]
    }
   ],
   "source": [
    "train = read_csv('train.csv')\n",
    "\n",
    "X = train.drop('cardio', axis=1).values\n",
    "y = train['cardio'].values\n",
    "print(f'X: {X.shape}')\n",
    "print(f'y: {y.shape}')"
   ]
  },
  {
   "cell_type": "markdown",
   "metadata": {},
   "source": [
    "### Helpers"
   ]
  },
  {
   "cell_type": "code",
   "execution_count": 355,
   "metadata": {},
   "outputs": [],
   "source": [
    "def print_importances(estimator):\n",
    "    for name, importance in sorted(zip(test, estimator.feature_importances_), key=operator.itemgetter(1), reverse=True):\n",
    "        print(f'{name}: {importance:.7f}')\n",
    "\n",
    "def make_int_grid(params, param_name, delta):\n",
    "    n = params.get(param_name, 1)\n",
    "    return {param_name: list(range(max(1, n - delta), n + delta + 1))}\n",
    "\n",
    "def make_float_grid(params, param_name, delta, min_, max_, default=0.0):\n",
    "    x = params.get(param_name, default)\n",
    "    return {param_name: list({max(min_, x - delta), x, min(max_, x + delta)})}\n",
    "\n",
    "def search(estimator, X, y, params, **param_grid):\n",
    "    start_time = time.time()\n",
    "    grid_search = model_selection.GridSearchCV(\n",
    "        estimator.set_params(**params),\n",
    "        param_grid,\n",
    "        scoring='neg_log_loss',\n",
    "        refit=False,\n",
    "        cv=cv(),\n",
    "    ).fit(X, y)\n",
    "    params.update(grid_search.best_params_)\n",
    "    print(f'[{(time.time() - start_time):.0f}s] {grid_search.best_score_:.7f} {grid_search.best_params_} | {param_grid}')\n",
    "\n",
    "def search_xgb(X, y, params):\n",
    "    estimator = xgboost.XGBClassifier(nthread=5, seed=0)\n",
    "    for _ in itertools.count(start=1):\n",
    "        print()\n",
    "        searches = [\n",
    "            lambda: search(estimator, X, y, params, **make_float_grid(params, 'colsample_bytree', 0.01, 0.5, 1.0, 1.0)),\n",
    "            lambda: search(estimator, X, y, params, **make_float_grid(params, 'subsample', 0.01, 0.5, 1.0, 1.0)),\n",
    "            lambda: search(estimator, X, y, params, **make_float_grid(params, 'base_score', 0.01, 0.0, 1.0)),\n",
    "            lambda: search(estimator, X, y, params, **make_float_grid(params, 'scale_pos_weight', 0.01, 0.0, 1.0)),\n",
    "            lambda: search(estimator, X, y, params, **make_float_grid(params, 'reg_lambda', 0.01, 0.0, 1.0)),\n",
    "            lambda: search(estimator, X, y, params, **make_float_grid(params, 'reg_alpha', 0.01, 0.0, 1.0)),\n",
    "            lambda: search(estimator, X, y, params, **make_float_grid(params, 'gamma', 0.01, 0.0, 1.0)),\n",
    "            lambda: search(estimator, X, y, params, **make_int_grid(params, 'max_depth', 1)),\n",
    "            lambda: search(estimator, X, y, params, **make_int_grid(params, 'n_estimators', 3)),\n",
    "        ]\n",
    "        random.shuffle(searches)\n",
    "        last_params = dict(params)\n",
    "        for _search in searches:\n",
    "            _search()\n",
    "        if params == last_params:\n",
    "            break\n",
    "    \n",
    "    print('---------------------------------------------------')\n",
    "    print(params)\n",
    "    return estimator.set_params(**params).fit(X, y)"
   ]
  },
  {
   "cell_type": "markdown",
   "metadata": {},
   "source": [
    "### CV"
   ]
  },
  {
   "cell_type": "code",
   "execution_count": 213,
   "metadata": {},
   "outputs": [],
   "source": [
    "def cv():\n",
    "    return model_selection.StratifiedKFold(n_splits=10, shuffle=True, random_state=0)"
   ]
  },
  {
   "cell_type": "markdown",
   "metadata": {},
   "source": [
    "### Predict `smoke`, `alco` and `active`"
   ]
  },
  {
   "cell_type": "code",
   "execution_count": 296,
   "metadata": {},
   "outputs": [],
   "source": [
    "X_helper = train.drop(['smoke', 'alco', 'active', 'cardio'], axis=1).values\n",
    "\n",
    "y_smoke = train['smoke'].values\n",
    "y_alco = train['alco'].values\n",
    "y_active = train['active'].values"
   ]
  },
  {
   "cell_type": "code",
   "execution_count": 360,
   "metadata": {},
   "outputs": [],
   "source": [
    "# smoke_params = {'base_score': 0.54, 'scale_pos_weight': 1.0, 'reg_lambda': 0.97, 'reg_alpha': 0.03, 'gamma': 0.22000000000000003, 'max_depth': 3, 'n_estimators': 76, 'subsample': 0.5, 'colsample_bytree': 0.8599999999999999}\n",
    "# alco_params = {}\n",
    "# active_params = {}\n"
   ]
  },
  {
   "cell_type": "code",
   "execution_count": 356,
   "metadata": {},
   "outputs": [
    {
     "name": "stdout",
     "output_type": "stream",
     "text": [
      "\n",
      "[36s] -0.2388175 {'max_depth': 3} | {'max_depth': [2, 3, 4]}\n",
      "[36s] -0.2388175 {'reg_lambda': 0.97} | {'reg_lambda': [0.96, 0.97, 0.98]}\n",
      "[36s] -0.2388175 {'reg_alpha': 0.019999999999999997} | {'reg_alpha': [0.019999999999999997, 0.009999999999999997, 0.03]}\n",
      "[35s] -0.2388175 {'colsample_bytree': 0.9299999999999999} | {'colsample_bytree': [0.9299999999999999, 0.94, 0.95]}\n",
      "[83s] -0.2388175 {'n_estimators': 79} | {'n_estimators': [76, 77, 78, 79, 80, 81, 82]}\n",
      "[36s] -0.2388175 {'base_score': 0.53} | {'base_score': [0.52, 0.53, 0.54]}\n",
      "[36s] -0.2388175 {'gamma': 0.2} | {'gamma': [0.19, 0.2, 0.21000000000000002]}\n",
      "[36s] -0.2388175 {'subsample': 0.5} | {'subsample': [0.49, 0.5, 0.51]}\n",
      "[24s] -0.2388175 {'scale_pos_weight': 1.0} | {'scale_pos_weight': [0.99, 1.0]}\n",
      "\n",
      "[36s] -0.2388175 {'reg_alpha': 0.019999999999999997} | {'reg_alpha': [0.019999999999999997, 0.009999999999999997, 0.03]}\n",
      "[36s] -0.2388175 {'max_depth': 3} | {'max_depth': [2, 3, 4]}\n",
      "[36s] -0.2388175 {'reg_lambda': 0.97} | {'reg_lambda': [0.96, 0.97, 0.98]}\n",
      "[36s] -0.2388175 {'colsample_bytree': 0.9199999999999999} | {'colsample_bytree': [0.9199999999999999, 0.9299999999999999, 0.94]}\n",
      "[36s] -0.2388175 {'gamma': 0.2} | {'gamma': [0.19, 0.2, 0.21000000000000002]}\n",
      "[24s] -0.2388175 {'scale_pos_weight': 1.0} | {'scale_pos_weight': [0.99, 1.0]}\n",
      "[36s] -0.2388175 {'subsample': 0.5} | {'subsample': [0.49, 0.5, 0.51]}\n",
      "[85s] -0.2388175 {'n_estimators': 79} | {'n_estimators': [76, 77, 78, 79, 80, 81, 82]}\n",
      "[35s] -0.2388175 {'base_score': 0.53} | {'base_score': [0.52, 0.53, 0.54]}\n",
      "\n",
      "[35s] -0.2388175 {'reg_lambda': 0.97} | {'reg_lambda': [0.96, 0.97, 0.98]}\n",
      "[35s] -0.2388175 {'reg_alpha': 0.019999999999999997} | {'reg_alpha': [0.019999999999999997, 0.009999999999999997, 0.03]}\n",
      "[36s] -0.2388175 {'subsample': 0.5} | {'subsample': [0.49, 0.5, 0.51]}\n",
      "[36s] -0.2388175 {'base_score': 0.53} | {'base_score': [0.52, 0.53, 0.54]}\n",
      "[36s] -0.2388175 {'colsample_bytree': 0.9099999999999999} | {'colsample_bytree': [0.9099999999999999, 0.9199999999999999, 0.9299999999999999]}\n",
      "[35s] -0.2388175 {'gamma': 0.2} | {'gamma': [0.19, 0.2, 0.21000000000000002]}\n",
      "[23s] -0.2388175 {'scale_pos_weight': 1.0} | {'scale_pos_weight': [0.99, 1.0]}\n",
      "[83s] -0.2388175 {'n_estimators': 79} | {'n_estimators': [76, 77, 78, 79, 80, 81, 82]}\n",
      "[36s] -0.2388175 {'max_depth': 3} | {'max_depth': [2, 3, 4]}\n",
      "\n",
      "[24s] -0.2388175 {'scale_pos_weight': 1.0} | {'scale_pos_weight': [0.99, 1.0]}\n",
      "[36s] -0.2388175 {'max_depth': 3} | {'max_depth': [2, 3, 4]}\n",
      "[35s] -0.2388175 {'base_score': 0.53} | {'base_score': [0.52, 0.53, 0.54]}\n",
      "[83s] -0.2388175 {'n_estimators': 79} | {'n_estimators': [76, 77, 78, 79, 80, 81, 82]}\n",
      "[35s] -0.2388175 {'colsample_bytree': 0.8999999999999999} | {'colsample_bytree': [0.8999999999999999, 0.9099999999999999, 0.9199999999999999]}\n",
      "[35s] -0.2388175 {'subsample': 0.5} | {'subsample': [0.49, 0.5, 0.51]}\n",
      "[35s] -0.2388175 {'reg_lambda': 0.97} | {'reg_lambda': [0.96, 0.97, 0.98]}\n",
      "[35s] -0.2388175 {'gamma': 0.2} | {'gamma': [0.19, 0.2, 0.21000000000000002]}\n",
      "[35s] -0.2388175 {'reg_alpha': 0.019999999999999997} | {'reg_alpha': [0.019999999999999997, 0.009999999999999997, 0.03]}\n",
      "\n",
      "[35s] -0.2388175 {'subsample': 0.5} | {'subsample': [0.49, 0.5, 0.51]}\n",
      "[35s] -0.2388175 {'reg_alpha': 0.019999999999999997} | {'reg_alpha': [0.019999999999999997, 0.009999999999999997, 0.03]}\n",
      "[36s] -0.2388175 {'colsample_bytree': 0.8899999999999999} | {'colsample_bytree': [0.8899999999999999, 0.8999999999999999, 0.9099999999999999]}\n",
      "[24s] -0.2388175 {'scale_pos_weight': 1.0} | {'scale_pos_weight': [0.99, 1.0]}\n",
      "[36s] -0.2388175 {'max_depth': 3} | {'max_depth': [2, 3, 4]}\n",
      "[83s] -0.2388175 {'n_estimators': 79} | {'n_estimators': [76, 77, 78, 79, 80, 81, 82]}\n",
      "[35s] -0.2388175 {'gamma': 0.2} | {'gamma': [0.19, 0.2, 0.21000000000000002]}\n",
      "[35s] -0.2388175 {'base_score': 0.53} | {'base_score': [0.52, 0.53, 0.54]}\n",
      "[36s] -0.2388175 {'reg_lambda': 0.97} | {'reg_lambda': [0.96, 0.97, 0.98]}\n",
      "\n",
      "[24s] -0.2388175 {'scale_pos_weight': 1.0} | {'scale_pos_weight': [0.99, 1.0]}\n",
      "[35s] -0.2387889 {'colsample_bytree': 0.8799999999999999} | {'colsample_bytree': [0.8799999999999999, 0.8899999999999999, 0.8999999999999999]}\n",
      "[34s] -0.2387781 {'base_score': 0.54} | {'base_score': [0.52, 0.53, 0.54]}\n",
      "[34s] -0.2387781 {'max_depth': 3} | {'max_depth': [2, 3, 4]}\n",
      "[33s] -0.2387779 {'gamma': 0.21000000000000002} | {'gamma': [0.19, 0.2, 0.21000000000000002]}\n",
      "[33s] -0.2387779 {'subsample': 0.5} | {'subsample': [0.49, 0.5, 0.51]}\n",
      "[78s] -0.2387779 {'n_estimators': 79} | {'n_estimators': [76, 77, 78, 79, 80, 81, 82]}\n",
      "[34s] -0.2387629 {'reg_lambda': 0.98} | {'reg_lambda': [0.96, 0.97, 0.98]}\n",
      "[34s] -0.2387616 {'reg_alpha': 0.03} | {'reg_alpha': [0.019999999999999997, 0.009999999999999997, 0.03]}\n",
      "\n",
      "[34s] -0.2387616 {'gamma': 0.2} | {'gamma': [0.2, 0.22000000000000003, 0.21000000000000002]}\n",
      "[34s] -0.2387616 {'max_depth': 3} | {'max_depth': [2, 3, 4]}\n",
      "[33s] -0.2387616 {'base_score': 0.54} | {'base_score': [0.53, 0.54, 0.55]}\n",
      "[34s] -0.2387616 {'reg_alpha': 0.03} | {'reg_alpha': [0.019999999999999997, 0.04, 0.03]}\n",
      "[35s] -0.2387616 {'colsample_bytree': 0.8699999999999999} | {'colsample_bytree': [0.8699999999999999, 0.8799999999999999, 0.8899999999999999]}\n",
      "[22s] -0.2387616 {'scale_pos_weight': 1.0} | {'scale_pos_weight': [0.99, 1.0]}\n",
      "[80s] -0.2387616 {'n_estimators': 79} | {'n_estimators': [76, 77, 78, 79, 80, 81, 82]}\n",
      "[34s] -0.2387616 {'subsample': 0.5} | {'subsample': [0.49, 0.5, 0.51]}\n",
      "[34s] -0.2387571 {'reg_lambda': 0.97} | {'reg_lambda': [0.97, 0.98, 0.99]}\n",
      "\n",
      "[34s] -0.2387571 {'colsample_bytree': 0.8599999999999999} | {'colsample_bytree': [0.8599999999999999, 0.8699999999999999, 0.8799999999999999]}\n",
      "[34s] -0.2387571 {'reg_alpha': 0.03} | {'reg_alpha': [0.019999999999999997, 0.04, 0.03]}\n",
      "[34s] -0.2387571 {'base_score': 0.54} | {'base_score': [0.53, 0.54, 0.55]}\n",
      "[34s] -0.2387569 {'gamma': 0.21000000000000002} | {'gamma': [0.19, 0.2, 0.21000000000000002]}\n",
      "[34s] -0.2387569 {'reg_lambda': 0.97} | {'reg_lambda': [0.96, 0.97, 0.98]}\n",
      "[23s] -0.2387569 {'scale_pos_weight': 1.0} | {'scale_pos_weight': [0.99, 1.0]}\n",
      "[80s] -0.2387566 {'n_estimators': 76} | {'n_estimators': [76, 77, 78, 79, 80, 81, 82]}\n",
      "[33s] -0.2387566 {'max_depth': 3} | {'max_depth': [2, 3, 4]}\n",
      "[33s] -0.2387566 {'subsample': 0.5} | {'subsample': [0.49, 0.5, 0.51]}\n",
      "\n",
      "[32s] -0.2387566 {'gamma': 0.22000000000000003} | {'gamma': [0.2, 0.22000000000000003, 0.21000000000000002]}\n"
     ]
    },
    {
     "ename": "KeyboardInterrupt",
     "evalue": "",
     "output_type": "error",
     "traceback": [
      "\u001b[0;31m---------------------------------------------------------------------------\u001b[0m",
      "\u001b[0;31mKeyboardInterrupt\u001b[0m                         Traceback (most recent call last)",
      "\u001b[0;32m<ipython-input-356-2f9806f60165>\u001b[0m in \u001b[0;36m<module>\u001b[0;34m()\u001b[0m\n\u001b[0;32m----> 1\u001b[0;31m \u001b[0msmoke_estimator\u001b[0m \u001b[0;34m=\u001b[0m \u001b[0msearch_xgb\u001b[0m\u001b[0;34m(\u001b[0m\u001b[0mX_helper\u001b[0m\u001b[0;34m,\u001b[0m \u001b[0my_smoke\u001b[0m\u001b[0;34m,\u001b[0m \u001b[0msmoke_params\u001b[0m\u001b[0;34m)\u001b[0m\u001b[0;34m\u001b[0m\u001b[0m\n\u001b[0m",
      "\u001b[0;32m<ipython-input-355-444e97f63a3b>\u001b[0m in \u001b[0;36msearch_xgb\u001b[0;34m(X, y, params)\u001b[0m\n\u001b[1;32m     41\u001b[0m         \u001b[0mlast_params\u001b[0m \u001b[0;34m=\u001b[0m \u001b[0mdict\u001b[0m\u001b[0;34m(\u001b[0m\u001b[0mparams\u001b[0m\u001b[0;34m)\u001b[0m\u001b[0;34m\u001b[0m\u001b[0m\n\u001b[1;32m     42\u001b[0m         \u001b[0;32mfor\u001b[0m \u001b[0m_search\u001b[0m \u001b[0;32min\u001b[0m \u001b[0msearches\u001b[0m\u001b[0;34m:\u001b[0m\u001b[0;34m\u001b[0m\u001b[0m\n\u001b[0;32m---> 43\u001b[0;31m             \u001b[0m_search\u001b[0m\u001b[0;34m(\u001b[0m\u001b[0;34m)\u001b[0m\u001b[0;34m\u001b[0m\u001b[0m\n\u001b[0m\u001b[1;32m     44\u001b[0m         \u001b[0;32mif\u001b[0m \u001b[0mparams\u001b[0m \u001b[0;34m==\u001b[0m \u001b[0mlast_params\u001b[0m\u001b[0;34m:\u001b[0m\u001b[0;34m\u001b[0m\u001b[0m\n\u001b[1;32m     45\u001b[0m             \u001b[0;32mbreak\u001b[0m\u001b[0;34m\u001b[0m\u001b[0m\n",
      "\u001b[0;32m<ipython-input-355-444e97f63a3b>\u001b[0m in \u001b[0;36m<lambda>\u001b[0;34m()\u001b[0m\n\u001b[1;32m     33\u001b[0m             \u001b[0;32mlambda\u001b[0m\u001b[0;34m:\u001b[0m \u001b[0msearch\u001b[0m\u001b[0;34m(\u001b[0m\u001b[0mestimator\u001b[0m\u001b[0;34m,\u001b[0m \u001b[0mX\u001b[0m\u001b[0;34m,\u001b[0m \u001b[0my\u001b[0m\u001b[0;34m,\u001b[0m \u001b[0mparams\u001b[0m\u001b[0;34m,\u001b[0m \u001b[0;34m**\u001b[0m\u001b[0mmake_float_grid\u001b[0m\u001b[0;34m(\u001b[0m\u001b[0mparams\u001b[0m\u001b[0;34m,\u001b[0m \u001b[0;34m'scale_pos_weight'\u001b[0m\u001b[0;34m,\u001b[0m \u001b[0;36m0.01\u001b[0m\u001b[0;34m,\u001b[0m \u001b[0;36m0.0\u001b[0m\u001b[0;34m,\u001b[0m \u001b[0;36m1.0\u001b[0m\u001b[0;34m)\u001b[0m\u001b[0;34m)\u001b[0m\u001b[0;34m,\u001b[0m\u001b[0;34m\u001b[0m\u001b[0m\n\u001b[1;32m     34\u001b[0m             \u001b[0;32mlambda\u001b[0m\u001b[0;34m:\u001b[0m \u001b[0msearch\u001b[0m\u001b[0;34m(\u001b[0m\u001b[0mestimator\u001b[0m\u001b[0;34m,\u001b[0m \u001b[0mX\u001b[0m\u001b[0;34m,\u001b[0m \u001b[0my\u001b[0m\u001b[0;34m,\u001b[0m \u001b[0mparams\u001b[0m\u001b[0;34m,\u001b[0m \u001b[0;34m**\u001b[0m\u001b[0mmake_float_grid\u001b[0m\u001b[0;34m(\u001b[0m\u001b[0mparams\u001b[0m\u001b[0;34m,\u001b[0m \u001b[0;34m'reg_lambda'\u001b[0m\u001b[0;34m,\u001b[0m \u001b[0;36m0.01\u001b[0m\u001b[0;34m,\u001b[0m \u001b[0;36m0.0\u001b[0m\u001b[0;34m,\u001b[0m \u001b[0;36m1.0\u001b[0m\u001b[0;34m)\u001b[0m\u001b[0;34m)\u001b[0m\u001b[0;34m,\u001b[0m\u001b[0;34m\u001b[0m\u001b[0m\n\u001b[0;32m---> 35\u001b[0;31m             \u001b[0;32mlambda\u001b[0m\u001b[0;34m:\u001b[0m \u001b[0msearch\u001b[0m\u001b[0;34m(\u001b[0m\u001b[0mestimator\u001b[0m\u001b[0;34m,\u001b[0m \u001b[0mX\u001b[0m\u001b[0;34m,\u001b[0m \u001b[0my\u001b[0m\u001b[0;34m,\u001b[0m \u001b[0mparams\u001b[0m\u001b[0;34m,\u001b[0m \u001b[0;34m**\u001b[0m\u001b[0mmake_float_grid\u001b[0m\u001b[0;34m(\u001b[0m\u001b[0mparams\u001b[0m\u001b[0;34m,\u001b[0m \u001b[0;34m'reg_alpha'\u001b[0m\u001b[0;34m,\u001b[0m \u001b[0;36m0.01\u001b[0m\u001b[0;34m,\u001b[0m \u001b[0;36m0.0\u001b[0m\u001b[0;34m,\u001b[0m \u001b[0;36m1.0\u001b[0m\u001b[0;34m)\u001b[0m\u001b[0;34m)\u001b[0m\u001b[0;34m,\u001b[0m\u001b[0;34m\u001b[0m\u001b[0m\n\u001b[0m\u001b[1;32m     36\u001b[0m             \u001b[0;32mlambda\u001b[0m\u001b[0;34m:\u001b[0m \u001b[0msearch\u001b[0m\u001b[0;34m(\u001b[0m\u001b[0mestimator\u001b[0m\u001b[0;34m,\u001b[0m \u001b[0mX\u001b[0m\u001b[0;34m,\u001b[0m \u001b[0my\u001b[0m\u001b[0;34m,\u001b[0m \u001b[0mparams\u001b[0m\u001b[0;34m,\u001b[0m \u001b[0;34m**\u001b[0m\u001b[0mmake_float_grid\u001b[0m\u001b[0;34m(\u001b[0m\u001b[0mparams\u001b[0m\u001b[0;34m,\u001b[0m \u001b[0;34m'gamma'\u001b[0m\u001b[0;34m,\u001b[0m \u001b[0;36m0.01\u001b[0m\u001b[0;34m,\u001b[0m \u001b[0;36m0.0\u001b[0m\u001b[0;34m,\u001b[0m \u001b[0;36m1.0\u001b[0m\u001b[0;34m)\u001b[0m\u001b[0;34m)\u001b[0m\u001b[0;34m,\u001b[0m\u001b[0;34m\u001b[0m\u001b[0m\n\u001b[1;32m     37\u001b[0m             \u001b[0;32mlambda\u001b[0m\u001b[0;34m:\u001b[0m \u001b[0msearch\u001b[0m\u001b[0;34m(\u001b[0m\u001b[0mestimator\u001b[0m\u001b[0;34m,\u001b[0m \u001b[0mX\u001b[0m\u001b[0;34m,\u001b[0m \u001b[0my\u001b[0m\u001b[0;34m,\u001b[0m \u001b[0mparams\u001b[0m\u001b[0;34m,\u001b[0m \u001b[0;34m**\u001b[0m\u001b[0mmake_int_grid\u001b[0m\u001b[0;34m(\u001b[0m\u001b[0mparams\u001b[0m\u001b[0;34m,\u001b[0m \u001b[0;34m'max_depth'\u001b[0m\u001b[0;34m,\u001b[0m \u001b[0;36m1\u001b[0m\u001b[0;34m)\u001b[0m\u001b[0;34m)\u001b[0m\u001b[0;34m,\u001b[0m\u001b[0;34m\u001b[0m\u001b[0m\n",
      "\u001b[0;32m<ipython-input-355-444e97f63a3b>\u001b[0m in \u001b[0;36msearch\u001b[0;34m(estimator, X, y, params, **param_grid)\u001b[0m\n\u001b[1;32m     19\u001b[0m         \u001b[0mrefit\u001b[0m\u001b[0;34m=\u001b[0m\u001b[0;32mFalse\u001b[0m\u001b[0;34m,\u001b[0m\u001b[0;34m\u001b[0m\u001b[0m\n\u001b[1;32m     20\u001b[0m         \u001b[0mcv\u001b[0m\u001b[0;34m=\u001b[0m\u001b[0mcv\u001b[0m\u001b[0;34m(\u001b[0m\u001b[0;34m)\u001b[0m\u001b[0;34m,\u001b[0m\u001b[0;34m\u001b[0m\u001b[0m\n\u001b[0;32m---> 21\u001b[0;31m     ).fit(X, y)\n\u001b[0m\u001b[1;32m     22\u001b[0m     \u001b[0mparams\u001b[0m\u001b[0;34m.\u001b[0m\u001b[0mupdate\u001b[0m\u001b[0;34m(\u001b[0m\u001b[0mgrid_search\u001b[0m\u001b[0;34m.\u001b[0m\u001b[0mbest_params_\u001b[0m\u001b[0;34m)\u001b[0m\u001b[0;34m\u001b[0m\u001b[0m\n\u001b[1;32m     23\u001b[0m     \u001b[0mprint\u001b[0m\u001b[0;34m(\u001b[0m\u001b[0;34mf'[{(time.time() - start_time):.0f}s] {grid_search.best_score_:.7f} {grid_search.best_params_} | {param_grid}'\u001b[0m\u001b[0;34m)\u001b[0m\u001b[0;34m\u001b[0m\u001b[0m\n",
      "\u001b[0;32m~/Library/Python/3.6/lib/python/site-packages/sklearn/model_selection/_search.py\u001b[0m in \u001b[0;36mfit\u001b[0;34m(self, X, y, groups)\u001b[0m\n\u001b[1;32m    943\u001b[0m             \u001b[0mtrain\u001b[0m\u001b[0;34m/\u001b[0m\u001b[0mtest\u001b[0m \u001b[0mset\u001b[0m\u001b[0;34m.\u001b[0m\u001b[0;34m\u001b[0m\u001b[0m\n\u001b[1;32m    944\u001b[0m         \"\"\"\n\u001b[0;32m--> 945\u001b[0;31m         \u001b[0;32mreturn\u001b[0m \u001b[0mself\u001b[0m\u001b[0;34m.\u001b[0m\u001b[0m_fit\u001b[0m\u001b[0;34m(\u001b[0m\u001b[0mX\u001b[0m\u001b[0;34m,\u001b[0m \u001b[0my\u001b[0m\u001b[0;34m,\u001b[0m \u001b[0mgroups\u001b[0m\u001b[0;34m,\u001b[0m \u001b[0mParameterGrid\u001b[0m\u001b[0;34m(\u001b[0m\u001b[0mself\u001b[0m\u001b[0;34m.\u001b[0m\u001b[0mparam_grid\u001b[0m\u001b[0;34m)\u001b[0m\u001b[0;34m)\u001b[0m\u001b[0;34m\u001b[0m\u001b[0m\n\u001b[0m\u001b[1;32m    946\u001b[0m \u001b[0;34m\u001b[0m\u001b[0m\n\u001b[1;32m    947\u001b[0m \u001b[0;34m\u001b[0m\u001b[0m\n",
      "\u001b[0;32m~/Library/Python/3.6/lib/python/site-packages/sklearn/model_selection/_search.py\u001b[0m in \u001b[0;36m_fit\u001b[0;34m(self, X, y, groups, parameter_iterable)\u001b[0m\n\u001b[1;32m    562\u001b[0m                                   \u001b[0mreturn_times\u001b[0m\u001b[0;34m=\u001b[0m\u001b[0;32mTrue\u001b[0m\u001b[0;34m,\u001b[0m \u001b[0mreturn_parameters\u001b[0m\u001b[0;34m=\u001b[0m\u001b[0;32mTrue\u001b[0m\u001b[0;34m,\u001b[0m\u001b[0;34m\u001b[0m\u001b[0m\n\u001b[1;32m    563\u001b[0m                                   error_score=self.error_score)\n\u001b[0;32m--> 564\u001b[0;31m           \u001b[0;32mfor\u001b[0m \u001b[0mparameters\u001b[0m \u001b[0;32min\u001b[0m \u001b[0mparameter_iterable\u001b[0m\u001b[0;34m\u001b[0m\u001b[0m\n\u001b[0m\u001b[1;32m    565\u001b[0m           for train, test in cv_iter)\n\u001b[1;32m    566\u001b[0m \u001b[0;34m\u001b[0m\u001b[0m\n",
      "\u001b[0;32m~/Library/Python/3.6/lib/python/site-packages/sklearn/externals/joblib/parallel.py\u001b[0m in \u001b[0;36m__call__\u001b[0;34m(self, iterable)\u001b[0m\n\u001b[1;32m    756\u001b[0m             \u001b[0;31m# was dispatched. In particular this covers the edge\u001b[0m\u001b[0;34m\u001b[0m\u001b[0;34m\u001b[0m\u001b[0m\n\u001b[1;32m    757\u001b[0m             \u001b[0;31m# case of Parallel used with an exhausted iterator.\u001b[0m\u001b[0;34m\u001b[0m\u001b[0;34m\u001b[0m\u001b[0m\n\u001b[0;32m--> 758\u001b[0;31m             \u001b[0;32mwhile\u001b[0m \u001b[0mself\u001b[0m\u001b[0;34m.\u001b[0m\u001b[0mdispatch_one_batch\u001b[0m\u001b[0;34m(\u001b[0m\u001b[0miterator\u001b[0m\u001b[0;34m)\u001b[0m\u001b[0;34m:\u001b[0m\u001b[0;34m\u001b[0m\u001b[0m\n\u001b[0m\u001b[1;32m    759\u001b[0m                 \u001b[0mself\u001b[0m\u001b[0;34m.\u001b[0m\u001b[0m_iterating\u001b[0m \u001b[0;34m=\u001b[0m \u001b[0;32mTrue\u001b[0m\u001b[0;34m\u001b[0m\u001b[0m\n\u001b[1;32m    760\u001b[0m             \u001b[0;32melse\u001b[0m\u001b[0;34m:\u001b[0m\u001b[0;34m\u001b[0m\u001b[0m\n",
      "\u001b[0;32m~/Library/Python/3.6/lib/python/site-packages/sklearn/externals/joblib/parallel.py\u001b[0m in \u001b[0;36mdispatch_one_batch\u001b[0;34m(self, iterator)\u001b[0m\n\u001b[1;32m    606\u001b[0m                 \u001b[0;32mreturn\u001b[0m \u001b[0;32mFalse\u001b[0m\u001b[0;34m\u001b[0m\u001b[0m\n\u001b[1;32m    607\u001b[0m             \u001b[0;32melse\u001b[0m\u001b[0;34m:\u001b[0m\u001b[0;34m\u001b[0m\u001b[0m\n\u001b[0;32m--> 608\u001b[0;31m                 \u001b[0mself\u001b[0m\u001b[0;34m.\u001b[0m\u001b[0m_dispatch\u001b[0m\u001b[0;34m(\u001b[0m\u001b[0mtasks\u001b[0m\u001b[0;34m)\u001b[0m\u001b[0;34m\u001b[0m\u001b[0m\n\u001b[0m\u001b[1;32m    609\u001b[0m                 \u001b[0;32mreturn\u001b[0m \u001b[0;32mTrue\u001b[0m\u001b[0;34m\u001b[0m\u001b[0m\n\u001b[1;32m    610\u001b[0m \u001b[0;34m\u001b[0m\u001b[0m\n",
      "\u001b[0;32m~/Library/Python/3.6/lib/python/site-packages/sklearn/externals/joblib/parallel.py\u001b[0m in \u001b[0;36m_dispatch\u001b[0;34m(self, batch)\u001b[0m\n\u001b[1;32m    569\u001b[0m         \u001b[0mdispatch_timestamp\u001b[0m \u001b[0;34m=\u001b[0m \u001b[0mtime\u001b[0m\u001b[0;34m.\u001b[0m\u001b[0mtime\u001b[0m\u001b[0;34m(\u001b[0m\u001b[0;34m)\u001b[0m\u001b[0;34m\u001b[0m\u001b[0m\n\u001b[1;32m    570\u001b[0m         \u001b[0mcb\u001b[0m \u001b[0;34m=\u001b[0m \u001b[0mBatchCompletionCallBack\u001b[0m\u001b[0;34m(\u001b[0m\u001b[0mdispatch_timestamp\u001b[0m\u001b[0;34m,\u001b[0m \u001b[0mlen\u001b[0m\u001b[0;34m(\u001b[0m\u001b[0mbatch\u001b[0m\u001b[0;34m)\u001b[0m\u001b[0;34m,\u001b[0m \u001b[0mself\u001b[0m\u001b[0;34m)\u001b[0m\u001b[0;34m\u001b[0m\u001b[0m\n\u001b[0;32m--> 571\u001b[0;31m         \u001b[0mjob\u001b[0m \u001b[0;34m=\u001b[0m \u001b[0mself\u001b[0m\u001b[0;34m.\u001b[0m\u001b[0m_backend\u001b[0m\u001b[0;34m.\u001b[0m\u001b[0mapply_async\u001b[0m\u001b[0;34m(\u001b[0m\u001b[0mbatch\u001b[0m\u001b[0;34m,\u001b[0m \u001b[0mcallback\u001b[0m\u001b[0;34m=\u001b[0m\u001b[0mcb\u001b[0m\u001b[0;34m)\u001b[0m\u001b[0;34m\u001b[0m\u001b[0m\n\u001b[0m\u001b[1;32m    572\u001b[0m         \u001b[0mself\u001b[0m\u001b[0;34m.\u001b[0m\u001b[0m_jobs\u001b[0m\u001b[0;34m.\u001b[0m\u001b[0mappend\u001b[0m\u001b[0;34m(\u001b[0m\u001b[0mjob\u001b[0m\u001b[0;34m)\u001b[0m\u001b[0;34m\u001b[0m\u001b[0m\n\u001b[1;32m    573\u001b[0m \u001b[0;34m\u001b[0m\u001b[0m\n",
      "\u001b[0;32m~/Library/Python/3.6/lib/python/site-packages/sklearn/externals/joblib/_parallel_backends.py\u001b[0m in \u001b[0;36mapply_async\u001b[0;34m(self, func, callback)\u001b[0m\n\u001b[1;32m    107\u001b[0m     \u001b[0;32mdef\u001b[0m \u001b[0mapply_async\u001b[0m\u001b[0;34m(\u001b[0m\u001b[0mself\u001b[0m\u001b[0;34m,\u001b[0m \u001b[0mfunc\u001b[0m\u001b[0;34m,\u001b[0m \u001b[0mcallback\u001b[0m\u001b[0;34m=\u001b[0m\u001b[0;32mNone\u001b[0m\u001b[0;34m)\u001b[0m\u001b[0;34m:\u001b[0m\u001b[0;34m\u001b[0m\u001b[0m\n\u001b[1;32m    108\u001b[0m         \u001b[0;34m\"\"\"Schedule a func to be run\"\"\"\u001b[0m\u001b[0;34m\u001b[0m\u001b[0m\n\u001b[0;32m--> 109\u001b[0;31m         \u001b[0mresult\u001b[0m \u001b[0;34m=\u001b[0m \u001b[0mImmediateResult\u001b[0m\u001b[0;34m(\u001b[0m\u001b[0mfunc\u001b[0m\u001b[0;34m)\u001b[0m\u001b[0;34m\u001b[0m\u001b[0m\n\u001b[0m\u001b[1;32m    110\u001b[0m         \u001b[0;32mif\u001b[0m \u001b[0mcallback\u001b[0m\u001b[0;34m:\u001b[0m\u001b[0;34m\u001b[0m\u001b[0m\n\u001b[1;32m    111\u001b[0m             \u001b[0mcallback\u001b[0m\u001b[0;34m(\u001b[0m\u001b[0mresult\u001b[0m\u001b[0;34m)\u001b[0m\u001b[0;34m\u001b[0m\u001b[0m\n",
      "\u001b[0;32m~/Library/Python/3.6/lib/python/site-packages/sklearn/externals/joblib/_parallel_backends.py\u001b[0m in \u001b[0;36m__init__\u001b[0;34m(self, batch)\u001b[0m\n\u001b[1;32m    324\u001b[0m         \u001b[0;31m# Don't delay the application, to avoid keeping the input\u001b[0m\u001b[0;34m\u001b[0m\u001b[0;34m\u001b[0m\u001b[0m\n\u001b[1;32m    325\u001b[0m         \u001b[0;31m# arguments in memory\u001b[0m\u001b[0;34m\u001b[0m\u001b[0;34m\u001b[0m\u001b[0m\n\u001b[0;32m--> 326\u001b[0;31m         \u001b[0mself\u001b[0m\u001b[0;34m.\u001b[0m\u001b[0mresults\u001b[0m \u001b[0;34m=\u001b[0m \u001b[0mbatch\u001b[0m\u001b[0;34m(\u001b[0m\u001b[0;34m)\u001b[0m\u001b[0;34m\u001b[0m\u001b[0m\n\u001b[0m\u001b[1;32m    327\u001b[0m \u001b[0;34m\u001b[0m\u001b[0m\n\u001b[1;32m    328\u001b[0m     \u001b[0;32mdef\u001b[0m \u001b[0mget\u001b[0m\u001b[0;34m(\u001b[0m\u001b[0mself\u001b[0m\u001b[0;34m)\u001b[0m\u001b[0;34m:\u001b[0m\u001b[0;34m\u001b[0m\u001b[0m\n",
      "\u001b[0;32m~/Library/Python/3.6/lib/python/site-packages/sklearn/externals/joblib/parallel.py\u001b[0m in \u001b[0;36m__call__\u001b[0;34m(self)\u001b[0m\n\u001b[1;32m    129\u001b[0m \u001b[0;34m\u001b[0m\u001b[0m\n\u001b[1;32m    130\u001b[0m     \u001b[0;32mdef\u001b[0m \u001b[0m__call__\u001b[0m\u001b[0;34m(\u001b[0m\u001b[0mself\u001b[0m\u001b[0;34m)\u001b[0m\u001b[0;34m:\u001b[0m\u001b[0;34m\u001b[0m\u001b[0m\n\u001b[0;32m--> 131\u001b[0;31m         \u001b[0;32mreturn\u001b[0m \u001b[0;34m[\u001b[0m\u001b[0mfunc\u001b[0m\u001b[0;34m(\u001b[0m\u001b[0;34m*\u001b[0m\u001b[0margs\u001b[0m\u001b[0;34m,\u001b[0m \u001b[0;34m**\u001b[0m\u001b[0mkwargs\u001b[0m\u001b[0;34m)\u001b[0m \u001b[0;32mfor\u001b[0m \u001b[0mfunc\u001b[0m\u001b[0;34m,\u001b[0m \u001b[0margs\u001b[0m\u001b[0;34m,\u001b[0m \u001b[0mkwargs\u001b[0m \u001b[0;32min\u001b[0m \u001b[0mself\u001b[0m\u001b[0;34m.\u001b[0m\u001b[0mitems\u001b[0m\u001b[0;34m]\u001b[0m\u001b[0;34m\u001b[0m\u001b[0m\n\u001b[0m\u001b[1;32m    132\u001b[0m \u001b[0;34m\u001b[0m\u001b[0m\n\u001b[1;32m    133\u001b[0m     \u001b[0;32mdef\u001b[0m \u001b[0m__len__\u001b[0m\u001b[0;34m(\u001b[0m\u001b[0mself\u001b[0m\u001b[0;34m)\u001b[0m\u001b[0;34m:\u001b[0m\u001b[0;34m\u001b[0m\u001b[0m\n",
      "\u001b[0;32m~/Library/Python/3.6/lib/python/site-packages/sklearn/externals/joblib/parallel.py\u001b[0m in \u001b[0;36m<listcomp>\u001b[0;34m(.0)\u001b[0m\n\u001b[1;32m    129\u001b[0m \u001b[0;34m\u001b[0m\u001b[0m\n\u001b[1;32m    130\u001b[0m     \u001b[0;32mdef\u001b[0m \u001b[0m__call__\u001b[0m\u001b[0;34m(\u001b[0m\u001b[0mself\u001b[0m\u001b[0;34m)\u001b[0m\u001b[0;34m:\u001b[0m\u001b[0;34m\u001b[0m\u001b[0m\n\u001b[0;32m--> 131\u001b[0;31m         \u001b[0;32mreturn\u001b[0m \u001b[0;34m[\u001b[0m\u001b[0mfunc\u001b[0m\u001b[0;34m(\u001b[0m\u001b[0;34m*\u001b[0m\u001b[0margs\u001b[0m\u001b[0;34m,\u001b[0m \u001b[0;34m**\u001b[0m\u001b[0mkwargs\u001b[0m\u001b[0;34m)\u001b[0m \u001b[0;32mfor\u001b[0m \u001b[0mfunc\u001b[0m\u001b[0;34m,\u001b[0m \u001b[0margs\u001b[0m\u001b[0;34m,\u001b[0m \u001b[0mkwargs\u001b[0m \u001b[0;32min\u001b[0m \u001b[0mself\u001b[0m\u001b[0;34m.\u001b[0m\u001b[0mitems\u001b[0m\u001b[0;34m]\u001b[0m\u001b[0;34m\u001b[0m\u001b[0m\n\u001b[0m\u001b[1;32m    132\u001b[0m \u001b[0;34m\u001b[0m\u001b[0m\n\u001b[1;32m    133\u001b[0m     \u001b[0;32mdef\u001b[0m \u001b[0m__len__\u001b[0m\u001b[0;34m(\u001b[0m\u001b[0mself\u001b[0m\u001b[0;34m)\u001b[0m\u001b[0;34m:\u001b[0m\u001b[0;34m\u001b[0m\u001b[0m\n",
      "\u001b[0;32m~/Library/Python/3.6/lib/python/site-packages/sklearn/model_selection/_validation.py\u001b[0m in \u001b[0;36m_fit_and_score\u001b[0;34m(estimator, X, y, scorer, train, test, verbose, parameters, fit_params, return_train_score, return_parameters, return_n_test_samples, return_times, error_score)\u001b[0m\n\u001b[1;32m    236\u001b[0m             \u001b[0mestimator\u001b[0m\u001b[0;34m.\u001b[0m\u001b[0mfit\u001b[0m\u001b[0;34m(\u001b[0m\u001b[0mX_train\u001b[0m\u001b[0;34m,\u001b[0m \u001b[0;34m**\u001b[0m\u001b[0mfit_params\u001b[0m\u001b[0;34m)\u001b[0m\u001b[0;34m\u001b[0m\u001b[0m\n\u001b[1;32m    237\u001b[0m         \u001b[0;32melse\u001b[0m\u001b[0;34m:\u001b[0m\u001b[0;34m\u001b[0m\u001b[0m\n\u001b[0;32m--> 238\u001b[0;31m             \u001b[0mestimator\u001b[0m\u001b[0;34m.\u001b[0m\u001b[0mfit\u001b[0m\u001b[0;34m(\u001b[0m\u001b[0mX_train\u001b[0m\u001b[0;34m,\u001b[0m \u001b[0my_train\u001b[0m\u001b[0;34m,\u001b[0m \u001b[0;34m**\u001b[0m\u001b[0mfit_params\u001b[0m\u001b[0;34m)\u001b[0m\u001b[0;34m\u001b[0m\u001b[0m\n\u001b[0m\u001b[1;32m    239\u001b[0m \u001b[0;34m\u001b[0m\u001b[0m\n\u001b[1;32m    240\u001b[0m     \u001b[0;32mexcept\u001b[0m \u001b[0mException\u001b[0m \u001b[0;32mas\u001b[0m \u001b[0me\u001b[0m\u001b[0;34m:\u001b[0m\u001b[0;34m\u001b[0m\u001b[0m\n",
      "\u001b[0;32m/Library/Frameworks/Python.framework/Versions/3.6/lib/python3.6/site-packages/xgboost/sklearn.py\u001b[0m in \u001b[0;36mfit\u001b[0;34m(self, X, y, sample_weight, eval_set, eval_metric, early_stopping_rounds, verbose)\u001b[0m\n\u001b[1;32m    443\u001b[0m                               \u001b[0mearly_stopping_rounds\u001b[0m\u001b[0;34m=\u001b[0m\u001b[0mearly_stopping_rounds\u001b[0m\u001b[0;34m,\u001b[0m\u001b[0;34m\u001b[0m\u001b[0m\n\u001b[1;32m    444\u001b[0m                               \u001b[0mevals_result\u001b[0m\u001b[0;34m=\u001b[0m\u001b[0mevals_result\u001b[0m\u001b[0;34m,\u001b[0m \u001b[0mobj\u001b[0m\u001b[0;34m=\u001b[0m\u001b[0mobj\u001b[0m\u001b[0;34m,\u001b[0m \u001b[0mfeval\u001b[0m\u001b[0;34m=\u001b[0m\u001b[0mfeval\u001b[0m\u001b[0;34m,\u001b[0m\u001b[0;34m\u001b[0m\u001b[0m\n\u001b[0;32m--> 445\u001b[0;31m                               verbose_eval=verbose)\n\u001b[0m\u001b[1;32m    446\u001b[0m \u001b[0;34m\u001b[0m\u001b[0m\n\u001b[1;32m    447\u001b[0m         \u001b[0mself\u001b[0m\u001b[0;34m.\u001b[0m\u001b[0mobjective\u001b[0m \u001b[0;34m=\u001b[0m \u001b[0mxgb_options\u001b[0m\u001b[0;34m[\u001b[0m\u001b[0;34m\"objective\"\u001b[0m\u001b[0;34m]\u001b[0m\u001b[0;34m\u001b[0m\u001b[0m\n",
      "\u001b[0;32m/Library/Frameworks/Python.framework/Versions/3.6/lib/python3.6/site-packages/xgboost/training.py\u001b[0m in \u001b[0;36mtrain\u001b[0;34m(params, dtrain, num_boost_round, evals, obj, feval, maximize, early_stopping_rounds, evals_result, verbose_eval, learning_rates, xgb_model, callbacks)\u001b[0m\n\u001b[1;32m    203\u001b[0m                            \u001b[0mevals\u001b[0m\u001b[0;34m=\u001b[0m\u001b[0mevals\u001b[0m\u001b[0;34m,\u001b[0m\u001b[0;34m\u001b[0m\u001b[0m\n\u001b[1;32m    204\u001b[0m                            \u001b[0mobj\u001b[0m\u001b[0;34m=\u001b[0m\u001b[0mobj\u001b[0m\u001b[0;34m,\u001b[0m \u001b[0mfeval\u001b[0m\u001b[0;34m=\u001b[0m\u001b[0mfeval\u001b[0m\u001b[0;34m,\u001b[0m\u001b[0;34m\u001b[0m\u001b[0m\n\u001b[0;32m--> 205\u001b[0;31m                            xgb_model=xgb_model, callbacks=callbacks)\n\u001b[0m\u001b[1;32m    206\u001b[0m \u001b[0;34m\u001b[0m\u001b[0m\n\u001b[1;32m    207\u001b[0m \u001b[0;34m\u001b[0m\u001b[0m\n",
      "\u001b[0;32m/Library/Frameworks/Python.framework/Versions/3.6/lib/python3.6/site-packages/xgboost/training.py\u001b[0m in \u001b[0;36m_train_internal\u001b[0;34m(params, dtrain, num_boost_round, evals, obj, feval, xgb_model, callbacks)\u001b[0m\n\u001b[1;32m     74\u001b[0m         \u001b[0;31m# Skip the first update if it is a recovery step.\u001b[0m\u001b[0;34m\u001b[0m\u001b[0;34m\u001b[0m\u001b[0m\n\u001b[1;32m     75\u001b[0m         \u001b[0;32mif\u001b[0m \u001b[0mversion\u001b[0m \u001b[0;34m%\u001b[0m \u001b[0;36m2\u001b[0m \u001b[0;34m==\u001b[0m \u001b[0;36m0\u001b[0m\u001b[0;34m:\u001b[0m\u001b[0;34m\u001b[0m\u001b[0m\n\u001b[0;32m---> 76\u001b[0;31m             \u001b[0mbst\u001b[0m\u001b[0;34m.\u001b[0m\u001b[0mupdate\u001b[0m\u001b[0;34m(\u001b[0m\u001b[0mdtrain\u001b[0m\u001b[0;34m,\u001b[0m \u001b[0mi\u001b[0m\u001b[0;34m,\u001b[0m \u001b[0mobj\u001b[0m\u001b[0;34m)\u001b[0m\u001b[0;34m\u001b[0m\u001b[0m\n\u001b[0m\u001b[1;32m     77\u001b[0m             \u001b[0mbst\u001b[0m\u001b[0;34m.\u001b[0m\u001b[0msave_rabit_checkpoint\u001b[0m\u001b[0;34m(\u001b[0m\u001b[0;34m)\u001b[0m\u001b[0;34m\u001b[0m\u001b[0m\n\u001b[1;32m     78\u001b[0m             \u001b[0mversion\u001b[0m \u001b[0;34m+=\u001b[0m \u001b[0;36m1\u001b[0m\u001b[0;34m\u001b[0m\u001b[0m\n",
      "\u001b[0;32m/Library/Frameworks/Python.framework/Versions/3.6/lib/python3.6/site-packages/xgboost/core.py\u001b[0m in \u001b[0;36mupdate\u001b[0;34m(self, dtrain, iteration, fobj)\u001b[0m\n\u001b[1;32m    804\u001b[0m \u001b[0;34m\u001b[0m\u001b[0m\n\u001b[1;32m    805\u001b[0m         \u001b[0;32mif\u001b[0m \u001b[0mfobj\u001b[0m \u001b[0;32mis\u001b[0m \u001b[0;32mNone\u001b[0m\u001b[0;34m:\u001b[0m\u001b[0;34m\u001b[0m\u001b[0m\n\u001b[0;32m--> 806\u001b[0;31m             \u001b[0m_check_call\u001b[0m\u001b[0;34m(\u001b[0m\u001b[0m_LIB\u001b[0m\u001b[0;34m.\u001b[0m\u001b[0mXGBoosterUpdateOneIter\u001b[0m\u001b[0;34m(\u001b[0m\u001b[0mself\u001b[0m\u001b[0;34m.\u001b[0m\u001b[0mhandle\u001b[0m\u001b[0;34m,\u001b[0m \u001b[0miteration\u001b[0m\u001b[0;34m,\u001b[0m \u001b[0mdtrain\u001b[0m\u001b[0;34m.\u001b[0m\u001b[0mhandle\u001b[0m\u001b[0;34m)\u001b[0m\u001b[0;34m)\u001b[0m\u001b[0;34m\u001b[0m\u001b[0m\n\u001b[0m\u001b[1;32m    807\u001b[0m         \u001b[0;32melse\u001b[0m\u001b[0;34m:\u001b[0m\u001b[0;34m\u001b[0m\u001b[0m\n\u001b[1;32m    808\u001b[0m             \u001b[0mpred\u001b[0m \u001b[0;34m=\u001b[0m \u001b[0mself\u001b[0m\u001b[0;34m.\u001b[0m\u001b[0mpredict\u001b[0m\u001b[0;34m(\u001b[0m\u001b[0mdtrain\u001b[0m\u001b[0;34m)\u001b[0m\u001b[0;34m\u001b[0m\u001b[0m\n",
      "\u001b[0;31mKeyboardInterrupt\u001b[0m: "
     ]
    }
   ],
   "source": [
    "smoke_estimator = search_xgb(X_helper, y_smoke, smoke_params)"
   ]
  },
  {
   "cell_type": "code",
   "execution_count": null,
   "metadata": {},
   "outputs": [],
   "source": [
    "alco_estimator = search_xgb(X_helper, y_alco, alco_params)"
   ]
  },
  {
   "cell_type": "code",
   "execution_count": null,
   "metadata": {},
   "outputs": [],
   "source": [
    "active_estimator = search_xgb(X_helper, y_active, active_params)"
   ]
  },
  {
   "cell_type": "markdown",
   "metadata": {},
   "source": [
    "### Predict `cardio`"
   ]
  },
  {
   "cell_type": "code",
   "execution_count": 292,
   "metadata": {
    "collapsed": true
   },
   "outputs": [],
   "source": [
    "# cardio_params = {'base_score': 0.51, 'gamma': 0.18, 'max_depth': 5, 'n_estimators': 80, 'reg_alpha': 0.019999999999999997, 'reg_lambda': 0.99, 'scale_pos_weight': 1.0}"
   ]
  },
  {
   "cell_type": "code",
   "execution_count": null,
   "metadata": {
    "scrolled": true
   },
   "outputs": [],
   "source": [
    "cardio_estimator = search_xgb(X, y, cardio_params)\n",
    "print_importances(cardio_estimator)"
   ]
  },
  {
   "cell_type": "code",
   "execution_count": null,
   "metadata": {
    "scrolled": true
   },
   "outputs": [],
   "source": [
    "test = read_csv('test.csv')\n",
    "X_helper_test = test.drop(['smoke', 'alco', 'active'], axis=1).values\n",
    "\n",
    "# TODO: try with normal predict.\n",
    "test['smoke'].fillna(pandas.Series(smoke_estimator.predict_proba(X_helper_test)[:, 1]), inplace=True)\n",
    "test['alco'].fillna(pandas.Series(alco_estimator.predict_proba(X_helper_test)[:, 1]), inplace=True)\n",
    "test['active'].fillna(pandas.Series(active_estimator.predict_proba(X_helper_test)[:, 1]), inplace=True)\n",
    "\n",
    "numpy.savetxt(f'xgboost.txt', cardio_estimator.predict_proba(test.values)[:, 1], fmt='%f')"
   ]
  }
 ],
 "metadata": {
  "kernelspec": {
   "display_name": "Python 3",
   "language": "python",
   "name": "python3"
  }
 },
 "nbformat": 4,
 "nbformat_minor": 2
}
